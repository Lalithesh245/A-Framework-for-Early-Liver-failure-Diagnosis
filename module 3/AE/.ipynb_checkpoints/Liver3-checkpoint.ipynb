{
 "cells": [
  {
   "cell_type": "code",
   "execution_count": 1,
   "metadata": {
    "collapsed": true,
    "id": "WwZYsLfDocKz",
    "jupyter": {
     "outputs_hidden": true
    }
   },
   "outputs": [],
   "source": [
    "import tensorflow as tf\n",
    "import pandas as pd\n",
    "from sklearn.model_selection import train_test_split\n",
    "from sklearn.metrics import confusion_matrix, classification_report, accuracy_score, recall_score, f1_score, precision_score\n",
    "import matplotlib.pyplot as plt\n",
    "import numpy as np\n",
    "import seaborn as sns\n",
    "import pickle\n",
    "import warnings\n",
    "warnings.filterwarnings(\"ignore\")"
   ]
  },
  {
   "cell_type": "code",
   "execution_count": 2,
   "metadata": {
    "id": "2MdRHpYUocK0"
   },
   "outputs": [],
   "source": [
    "df = pd.read_csv(\"C:\\\\Users\\\\User\\\\Desktop\\\\fproject\\\\dataset\\\\liver_patient.csv\")"
   ]
  },
  {
   "cell_type": "code",
   "execution_count": 3,
   "metadata": {
    "colab": {
     "base_uri": "https://localhost:8080/",
     "height": 270
    },
    "id": "HQADWVMK05L1",
    "outputId": "7082c33d-5b1f-49f1-a57e-002b8a910f33"
   },
   "outputs": [
    {
     "data": {
      "text/html": [
       "<div>\n",
       "<style scoped>\n",
       "    .dataframe tbody tr th:only-of-type {\n",
       "        vertical-align: middle;\n",
       "    }\n",
       "\n",
       "    .dataframe tbody tr th {\n",
       "        vertical-align: top;\n",
       "    }\n",
       "\n",
       "    .dataframe thead th {\n",
       "        text-align: right;\n",
       "    }\n",
       "</style>\n",
       "<table border=\"1\" class=\"dataframe\">\n",
       "  <thead>\n",
       "    <tr style=\"text-align: right;\">\n",
       "      <th></th>\n",
       "      <th>Age</th>\n",
       "      <th>Gender</th>\n",
       "      <th>Total_Bilirubin</th>\n",
       "      <th>Direct_Bilirubin</th>\n",
       "      <th>Alkaline_Phosphotase</th>\n",
       "      <th>Alamine_Aminotransferase</th>\n",
       "      <th>Aspartate_Aminotransferase</th>\n",
       "      <th>Total_Protiens</th>\n",
       "      <th>Albumin</th>\n",
       "      <th>Albumin_and_Globulin_Ratio</th>\n",
       "      <th>Dataset</th>\n",
       "    </tr>\n",
       "  </thead>\n",
       "  <tbody>\n",
       "    <tr>\n",
       "      <th>0</th>\n",
       "      <td>65</td>\n",
       "      <td>Female</td>\n",
       "      <td>0.7</td>\n",
       "      <td>0.1</td>\n",
       "      <td>187</td>\n",
       "      <td>16</td>\n",
       "      <td>18</td>\n",
       "      <td>6.8</td>\n",
       "      <td>3.3</td>\n",
       "      <td>0.90</td>\n",
       "      <td>1</td>\n",
       "    </tr>\n",
       "    <tr>\n",
       "      <th>1</th>\n",
       "      <td>62</td>\n",
       "      <td>Male</td>\n",
       "      <td>10.9</td>\n",
       "      <td>5.5</td>\n",
       "      <td>699</td>\n",
       "      <td>64</td>\n",
       "      <td>100</td>\n",
       "      <td>7.5</td>\n",
       "      <td>3.2</td>\n",
       "      <td>0.74</td>\n",
       "      <td>1</td>\n",
       "    </tr>\n",
       "    <tr>\n",
       "      <th>2</th>\n",
       "      <td>62</td>\n",
       "      <td>Male</td>\n",
       "      <td>7.3</td>\n",
       "      <td>4.1</td>\n",
       "      <td>490</td>\n",
       "      <td>60</td>\n",
       "      <td>68</td>\n",
       "      <td>7.0</td>\n",
       "      <td>3.3</td>\n",
       "      <td>0.89</td>\n",
       "      <td>1</td>\n",
       "    </tr>\n",
       "    <tr>\n",
       "      <th>3</th>\n",
       "      <td>58</td>\n",
       "      <td>Male</td>\n",
       "      <td>1.0</td>\n",
       "      <td>0.4</td>\n",
       "      <td>182</td>\n",
       "      <td>14</td>\n",
       "      <td>20</td>\n",
       "      <td>6.8</td>\n",
       "      <td>3.4</td>\n",
       "      <td>1.00</td>\n",
       "      <td>1</td>\n",
       "    </tr>\n",
       "    <tr>\n",
       "      <th>4</th>\n",
       "      <td>72</td>\n",
       "      <td>Male</td>\n",
       "      <td>3.9</td>\n",
       "      <td>2.0</td>\n",
       "      <td>195</td>\n",
       "      <td>27</td>\n",
       "      <td>59</td>\n",
       "      <td>7.3</td>\n",
       "      <td>2.4</td>\n",
       "      <td>0.40</td>\n",
       "      <td>1</td>\n",
       "    </tr>\n",
       "  </tbody>\n",
       "</table>\n",
       "</div>"
      ],
      "text/plain": [
       "   Age  Gender  Total_Bilirubin  Direct_Bilirubin  Alkaline_Phosphotase  \\\n",
       "0   65  Female              0.7               0.1                   187   \n",
       "1   62    Male             10.9               5.5                   699   \n",
       "2   62    Male              7.3               4.1                   490   \n",
       "3   58    Male              1.0               0.4                   182   \n",
       "4   72    Male              3.9               2.0                   195   \n",
       "\n",
       "   Alamine_Aminotransferase  Aspartate_Aminotransferase  Total_Protiens  \\\n",
       "0                        16                          18             6.8   \n",
       "1                        64                         100             7.5   \n",
       "2                        60                          68             7.0   \n",
       "3                        14                          20             6.8   \n",
       "4                        27                          59             7.3   \n",
       "\n",
       "   Albumin  Albumin_and_Globulin_Ratio  Dataset  \n",
       "0      3.3                        0.90        1  \n",
       "1      3.2                        0.74        1  \n",
       "2      3.3                        0.89        1  \n",
       "3      3.4                        1.00        1  \n",
       "4      2.4                        0.40        1  "
      ]
     },
     "execution_count": 3,
     "metadata": {},
     "output_type": "execute_result"
    }
   ],
   "source": [
    "df.head()"
   ]
  },
  {
   "cell_type": "code",
   "execution_count": 4,
   "metadata": {
    "colab": {
     "base_uri": "https://localhost:8080/"
    },
    "id": "gWH2PPDj1BEh",
    "outputId": "8ba58deb-826a-4915-bd36-fdefd906c06e"
   },
   "outputs": [
    {
     "data": {
      "text/plain": [
       "13"
      ]
     },
     "execution_count": 4,
     "metadata": {},
     "output_type": "execute_result"
    }
   ],
   "source": [
    "df.duplicated().sum()"
   ]
  },
  {
   "cell_type": "code",
   "execution_count": 5,
   "metadata": {
    "id": "bP8cCWtk1H90"
   },
   "outputs": [],
   "source": [
    "df = df.drop_duplicates()"
   ]
  },
  {
   "cell_type": "code",
   "execution_count": 6,
   "metadata": {
    "colab": {
     "base_uri": "https://localhost:8080/"
    },
    "id": "f6ykD8WGi9Hs",
    "outputId": "740ece48-c25b-4f5c-a7d2-e331609e179e"
   },
   "outputs": [
    {
     "data": {
      "text/plain": [
       "0"
      ]
     },
     "execution_count": 6,
     "metadata": {},
     "output_type": "execute_result"
    }
   ],
   "source": [
    "df.duplicated().sum()"
   ]
  },
  {
   "cell_type": "code",
   "execution_count": 7,
   "metadata": {
    "colab": {
     "base_uri": "https://localhost:8080/"
    },
    "id": "S_BEfO6y1QGK",
    "outputId": "4b369330-8f26-4bab-f76c-3b30fa263c1b"
   },
   "outputs": [
    {
     "data": {
      "text/plain": [
       "Age                           0\n",
       "Gender                        0\n",
       "Total_Bilirubin               0\n",
       "Direct_Bilirubin              0\n",
       "Alkaline_Phosphotase          0\n",
       "Alamine_Aminotransferase      0\n",
       "Aspartate_Aminotransferase    0\n",
       "Total_Protiens                0\n",
       "Albumin                       0\n",
       "Albumin_and_Globulin_Ratio    4\n",
       "Dataset                       0\n",
       "dtype: int64"
      ]
     },
     "execution_count": 7,
     "metadata": {},
     "output_type": "execute_result"
    }
   ],
   "source": [
    "df.isnull().sum()"
   ]
  },
  {
   "cell_type": "code",
   "execution_count": 8,
   "metadata": {
    "id": "IuAVJfT01g2l"
   },
   "outputs": [],
   "source": [
    "df = df.dropna()"
   ]
  },
  {
   "cell_type": "code",
   "execution_count": 9,
   "metadata": {
    "colab": {
     "base_uri": "https://localhost:8080/"
    },
    "id": "HJGb2rDs1rsJ",
    "outputId": "cee2e6bf-f64b-49b7-e1fc-5f5341a04b0d"
   },
   "outputs": [
    {
     "data": {
      "text/plain": [
       "Age                           0\n",
       "Gender                        0\n",
       "Total_Bilirubin               0\n",
       "Direct_Bilirubin              0\n",
       "Alkaline_Phosphotase          0\n",
       "Alamine_Aminotransferase      0\n",
       "Aspartate_Aminotransferase    0\n",
       "Total_Protiens                0\n",
       "Albumin                       0\n",
       "Albumin_and_Globulin_Ratio    0\n",
       "Dataset                       0\n",
       "dtype: int64"
      ]
     },
     "execution_count": 9,
     "metadata": {},
     "output_type": "execute_result"
    }
   ],
   "source": [
    "df.isnull().sum()"
   ]
  },
  {
   "cell_type": "code",
   "execution_count": 10,
   "metadata": {
    "id": "YR2Qc5h61tyn"
   },
   "outputs": [],
   "source": [
    "df = df.rename({'Dataset':'Result'},axis=1)"
   ]
  },
  {
   "cell_type": "code",
   "execution_count": 11,
   "metadata": {
    "colab": {
     "base_uri": "https://localhost:8080/"
    },
    "id": "qqt-HRjd2605",
    "outputId": "bb2c06e2-f823-498b-ca1e-9b71d120fdde"
   },
   "outputs": [
    {
     "data": {
      "text/plain": [
       "Index(['Age', 'Gender', 'Total_Bilirubin', 'Direct_Bilirubin',\n",
       "       'Alkaline_Phosphotase', 'Alamine_Aminotransferase',\n",
       "       'Aspartate_Aminotransferase', 'Total_Protiens', 'Albumin',\n",
       "       'Albumin_and_Globulin_Ratio', 'Result'],\n",
       "      dtype='object')"
      ]
     },
     "execution_count": 11,
     "metadata": {},
     "output_type": "execute_result"
    }
   ],
   "source": [
    "df.columns"
   ]
  },
  {
   "cell_type": "code",
   "execution_count": 12,
   "metadata": {
    "id": "29GMi12K4fTs"
   },
   "outputs": [],
   "source": [
    "from sklearn.preprocessing import LabelEncoder\n",
    "var_mod = ['Gender']\n",
    "le = LabelEncoder()\n",
    "for i in var_mod:\n",
    "  df[i] = le.fit_transform(df[i]).astype(int)"
   ]
  },
  {
   "cell_type": "code",
   "execution_count": 13,
   "metadata": {
    "id": "yId11gknocK3"
   },
   "outputs": [],
   "source": [
    "df_sex = pd.get_dummies(df['Gender'])\n",
    "df_new = pd.concat([df, df_sex], axis=1)\n",
    "Droop_gender = df_new.drop(labels=['Gender' ],axis=1 )\n",
    "Droop_gender.columns = ['Age', 'Total_Bilirubin', 'Direct_Bilirubin','Alkaline_Phosphotase','Alamine_Aminotransferase','Aspartate_Aminotransferase','Total_Protiens','Albumin','Albumin_and_Globulin_Ratio','Male','Fmale','Result']\n",
    "\n",
    "X = Droop_gender.drop('Result',axis=1)\n",
    "y = Droop_gender['Result']\n",
    "\n",
    "# split data\n",
    "X_train, X_test, y_train, y_test = train_test_split(X, y, test_size = 0.3, random_state = 1,stratify = y)\n"
   ]
  },
  {
   "cell_type": "code",
   "execution_count": 14,
   "metadata": {
    "id": "ATXKl_E-ocK3"
   },
   "outputs": [],
   "source": [
    "from sklearn.preprocessing import StandardScaler\n",
    "sc = StandardScaler()\n",
    "X_train = sc.fit_transform(X_train)\n",
    "X_test = sc.transform(X_test)\n"
   ]
  },
  {
   "cell_type": "code",
   "execution_count": 15,
   "metadata": {
    "id": "fpNAxT7qK8Zs"
   },
   "outputs": [],
   "source": [
    "input_shape = X_train.shape[1]\n",
    "encoding_dim = 11\n",
    "\n",
    "input_layer = tf.keras.Input(shape=(input_shape,))\n",
    "encoded = tf.keras.layers.Dense(encoding_dim, activation='relu')(input_layer)\n",
    "decoded = tf.keras.layers.Dense(input_shape, activation='sigmoid')(encoded)\n",
    "\n",
    "autoencoder = tf.keras.Model(input_layer, decoded)\n",
    "autoencoder.compile(optimizer='adam', loss='mse')"
   ]
  },
  {
   "cell_type": "code",
   "execution_count": 16,
   "metadata": {
    "colab": {
     "base_uri": "https://localhost:8080/"
    },
    "id": "XnFoyqxFLFwD",
    "outputId": "c699d05f-7c0a-4ddc-8770-76c954c64e31"
   },
   "outputs": [
    {
     "name": "stdout",
     "output_type": "stream",
     "text": [
      "Epoch 1/100\n",
      "13/13 [==============================] - 1s 16ms/step - loss: 1.2349 - val_loss: 2.1330\n",
      "Epoch 2/100\n",
      "13/13 [==============================] - 0s 5ms/step - loss: 1.2141 - val_loss: 2.1100\n",
      "Epoch 3/100\n",
      "13/13 [==============================] - 0s 4ms/step - loss: 1.1937 - val_loss: 2.0881\n",
      "Epoch 4/100\n",
      "13/13 [==============================] - 0s 3ms/step - loss: 1.1735 - val_loss: 2.0667\n",
      "Epoch 5/100\n",
      "13/13 [==============================] - 0s 3ms/step - loss: 1.1531 - val_loss: 2.0455\n",
      "Epoch 6/100\n",
      "13/13 [==============================] - 0s 3ms/step - loss: 1.1327 - val_loss: 2.0242\n",
      "Epoch 7/100\n",
      "13/13 [==============================] - 0s 4ms/step - loss: 1.1127 - val_loss: 2.0034\n",
      "Epoch 8/100\n",
      "13/13 [==============================] - 0s 5ms/step - loss: 1.0923 - val_loss: 1.9826\n",
      "Epoch 9/100\n",
      "13/13 [==============================] - 0s 4ms/step - loss: 1.0724 - val_loss: 1.9616\n",
      "Epoch 10/100\n",
      "13/13 [==============================] - 0s 4ms/step - loss: 1.0523 - val_loss: 1.9410\n",
      "Epoch 11/100\n",
      "13/13 [==============================] - 0s 4ms/step - loss: 1.0329 - val_loss: 1.9199\n",
      "Epoch 12/100\n",
      "13/13 [==============================] - 0s 3ms/step - loss: 1.0134 - val_loss: 1.8996\n",
      "Epoch 13/100\n",
      "13/13 [==============================] - 0s 3ms/step - loss: 0.9946 - val_loss: 1.8795\n",
      "Epoch 14/100\n",
      "13/13 [==============================] - 0s 4ms/step - loss: 0.9758 - val_loss: 1.8599\n",
      "Epoch 15/100\n",
      "13/13 [==============================] - 0s 3ms/step - loss: 0.9580 - val_loss: 1.8414\n",
      "Epoch 16/100\n",
      "13/13 [==============================] - 0s 4ms/step - loss: 0.9408 - val_loss: 1.8236\n",
      "Epoch 17/100\n",
      "13/13 [==============================] - 0s 3ms/step - loss: 0.9246 - val_loss: 1.8067\n",
      "Epoch 18/100\n",
      "13/13 [==============================] - 0s 3ms/step - loss: 0.9090 - val_loss: 1.7910\n",
      "Epoch 19/100\n",
      "13/13 [==============================] - 0s 3ms/step - loss: 0.8944 - val_loss: 1.7758\n",
      "Epoch 20/100\n",
      "13/13 [==============================] - 0s 3ms/step - loss: 0.8804 - val_loss: 1.7614\n",
      "Epoch 21/100\n",
      "13/13 [==============================] - 0s 3ms/step - loss: 0.8672 - val_loss: 1.7475\n",
      "Epoch 22/100\n",
      "13/13 [==============================] - 0s 5ms/step - loss: 0.8548 - val_loss: 1.7342\n",
      "Epoch 23/100\n",
      "13/13 [==============================] - 0s 4ms/step - loss: 0.8429 - val_loss: 1.7218\n",
      "Epoch 24/100\n",
      "13/13 [==============================] - 0s 3ms/step - loss: 0.8320 - val_loss: 1.7103\n",
      "Epoch 25/100\n",
      "13/13 [==============================] - 0s 3ms/step - loss: 0.8218 - val_loss: 1.6995\n",
      "Epoch 26/100\n",
      "13/13 [==============================] - 0s 3ms/step - loss: 0.8118 - val_loss: 1.6893\n",
      "Epoch 27/100\n",
      "13/13 [==============================] - 0s 3ms/step - loss: 0.8027 - val_loss: 1.6799\n",
      "Epoch 28/100\n",
      "13/13 [==============================] - 0s 3ms/step - loss: 0.7939 - val_loss: 1.6713\n",
      "Epoch 29/100\n",
      "13/13 [==============================] - 0s 3ms/step - loss: 0.7857 - val_loss: 1.6630\n",
      "Epoch 30/100\n",
      "13/13 [==============================] - 0s 3ms/step - loss: 0.7779 - val_loss: 1.6553\n",
      "Epoch 31/100\n",
      "13/13 [==============================] - 0s 3ms/step - loss: 0.7706 - val_loss: 1.6479\n",
      "Epoch 32/100\n",
      "13/13 [==============================] - 0s 3ms/step - loss: 0.7636 - val_loss: 1.6409\n",
      "Epoch 33/100\n",
      "13/13 [==============================] - 0s 4ms/step - loss: 0.7570 - val_loss: 1.6342\n",
      "Epoch 34/100\n",
      "13/13 [==============================] - 0s 3ms/step - loss: 0.7507 - val_loss: 1.6278\n",
      "Epoch 35/100\n",
      "13/13 [==============================] - 0s 3ms/step - loss: 0.7447 - val_loss: 1.6218\n",
      "Epoch 36/100\n",
      "13/13 [==============================] - 0s 4ms/step - loss: 0.7391 - val_loss: 1.6159\n",
      "Epoch 37/100\n",
      "13/13 [==============================] - 0s 3ms/step - loss: 0.7337 - val_loss: 1.6105\n",
      "Epoch 38/100\n",
      "13/13 [==============================] - 0s 3ms/step - loss: 0.7285 - val_loss: 1.6053\n",
      "Epoch 39/100\n",
      "13/13 [==============================] - 0s 3ms/step - loss: 0.7236 - val_loss: 1.6002\n",
      "Epoch 40/100\n",
      "13/13 [==============================] - 0s 3ms/step - loss: 0.7188 - val_loss: 1.5955\n",
      "Epoch 41/100\n",
      "13/13 [==============================] - 0s 3ms/step - loss: 0.7143 - val_loss: 1.5909\n",
      "Epoch 42/100\n",
      "13/13 [==============================] - 0s 3ms/step - loss: 0.7100 - val_loss: 1.5864\n",
      "Epoch 43/100\n",
      "13/13 [==============================] - 0s 3ms/step - loss: 0.7058 - val_loss: 1.5823\n",
      "Epoch 44/100\n",
      "13/13 [==============================] - 0s 4ms/step - loss: 0.7019 - val_loss: 1.5782\n",
      "Epoch 45/100\n",
      "13/13 [==============================] - 0s 3ms/step - loss: 0.6980 - val_loss: 1.5743\n",
      "Epoch 46/100\n",
      "13/13 [==============================] - 0s 3ms/step - loss: 0.6943 - val_loss: 1.5707\n",
      "Epoch 47/100\n",
      "13/13 [==============================] - 0s 3ms/step - loss: 0.6907 - val_loss: 1.5671\n",
      "Epoch 48/100\n",
      "13/13 [==============================] - 0s 3ms/step - loss: 0.6873 - val_loss: 1.5637\n",
      "Epoch 49/100\n",
      "13/13 [==============================] - 0s 4ms/step - loss: 0.6841 - val_loss: 1.5604\n",
      "Epoch 50/100\n",
      "13/13 [==============================] - 0s 3ms/step - loss: 0.6809 - val_loss: 1.5573\n",
      "Epoch 51/100\n",
      "13/13 [==============================] - 0s 3ms/step - loss: 0.6780 - val_loss: 1.5543\n",
      "Epoch 52/100\n",
      "13/13 [==============================] - 0s 3ms/step - loss: 0.6750 - val_loss: 1.5513\n",
      "Epoch 53/100\n",
      "13/13 [==============================] - 0s 4ms/step - loss: 0.6723 - val_loss: 1.5486\n",
      "Epoch 54/100\n",
      "13/13 [==============================] - 0s 3ms/step - loss: 0.6696 - val_loss: 1.5460\n",
      "Epoch 55/100\n",
      "13/13 [==============================] - 0s 3ms/step - loss: 0.6670 - val_loss: 1.5435\n",
      "Epoch 56/100\n",
      "13/13 [==============================] - 0s 6ms/step - loss: 0.6645 - val_loss: 1.5411\n",
      "Epoch 57/100\n",
      "13/13 [==============================] - 0s 3ms/step - loss: 0.6622 - val_loss: 1.5388\n",
      "Epoch 58/100\n",
      "13/13 [==============================] - 0s 4ms/step - loss: 0.6599 - val_loss: 1.5365\n",
      "Epoch 59/100\n",
      "13/13 [==============================] - 0s 3ms/step - loss: 0.6577 - val_loss: 1.5344\n",
      "Epoch 60/100\n",
      "13/13 [==============================] - 0s 3ms/step - loss: 0.6555 - val_loss: 1.5324\n",
      "Epoch 61/100\n",
      "13/13 [==============================] - 0s 3ms/step - loss: 0.6535 - val_loss: 1.5305\n",
      "Epoch 62/100\n",
      "13/13 [==============================] - 0s 3ms/step - loss: 0.6516 - val_loss: 1.5285\n",
      "Epoch 63/100\n",
      "13/13 [==============================] - 0s 3ms/step - loss: 0.6496 - val_loss: 1.5267\n",
      "Epoch 64/100\n",
      "13/13 [==============================] - 0s 4ms/step - loss: 0.6478 - val_loss: 1.5250\n",
      "Epoch 65/100\n",
      "13/13 [==============================] - 0s 3ms/step - loss: 0.6460 - val_loss: 1.5233\n",
      "Epoch 66/100\n",
      "13/13 [==============================] - 0s 4ms/step - loss: 0.6443 - val_loss: 1.5216\n",
      "Epoch 67/100\n",
      "13/13 [==============================] - 0s 4ms/step - loss: 0.6426 - val_loss: 1.5200\n",
      "Epoch 68/100\n",
      "13/13 [==============================] - 0s 4ms/step - loss: 0.6411 - val_loss: 1.5185\n",
      "Epoch 69/100\n",
      "13/13 [==============================] - 0s 4ms/step - loss: 0.6395 - val_loss: 1.5170\n",
      "Epoch 70/100\n",
      "13/13 [==============================] - 0s 4ms/step - loss: 0.6380 - val_loss: 1.5156\n",
      "Epoch 71/100\n",
      "13/13 [==============================] - 0s 3ms/step - loss: 0.6365 - val_loss: 1.5142\n",
      "Epoch 72/100\n",
      "13/13 [==============================] - 0s 3ms/step - loss: 0.6351 - val_loss: 1.5128\n",
      "Epoch 73/100\n",
      "13/13 [==============================] - 0s 3ms/step - loss: 0.6338 - val_loss: 1.5115\n",
      "Epoch 74/100\n",
      "13/13 [==============================] - 0s 4ms/step - loss: 0.6324 - val_loss: 1.5102\n",
      "Epoch 75/100\n",
      "13/13 [==============================] - 0s 3ms/step - loss: 0.6311 - val_loss: 1.5089\n",
      "Epoch 76/100\n",
      "13/13 [==============================] - 0s 3ms/step - loss: 0.6299 - val_loss: 1.5077\n",
      "Epoch 77/100\n",
      "13/13 [==============================] - 0s 4ms/step - loss: 0.6286 - val_loss: 1.5065\n",
      "Epoch 78/100\n",
      "13/13 [==============================] - 0s 4ms/step - loss: 0.6275 - val_loss: 1.5054\n",
      "Epoch 79/100\n",
      "13/13 [==============================] - 0s 3ms/step - loss: 0.6263 - val_loss: 1.5043\n",
      "Epoch 80/100\n",
      "13/13 [==============================] - 0s 3ms/step - loss: 0.6252 - val_loss: 1.5031\n",
      "Epoch 81/100\n",
      "13/13 [==============================] - 0s 3ms/step - loss: 0.6241 - val_loss: 1.5021\n",
      "Epoch 82/100\n",
      "13/13 [==============================] - 0s 3ms/step - loss: 0.6230 - val_loss: 1.5010\n",
      "Epoch 83/100\n",
      "13/13 [==============================] - 0s 3ms/step - loss: 0.6220 - val_loss: 1.5000\n",
      "Epoch 84/100\n",
      "13/13 [==============================] - 0s 4ms/step - loss: 0.6209 - val_loss: 1.4990\n",
      "Epoch 85/100\n",
      "13/13 [==============================] - 0s 3ms/step - loss: 0.6199 - val_loss: 1.4980\n",
      "Epoch 86/100\n",
      "13/13 [==============================] - 0s 3ms/step - loss: 0.6190 - val_loss: 1.4971\n",
      "Epoch 87/100\n",
      "13/13 [==============================] - 0s 4ms/step - loss: 0.6180 - val_loss: 1.4962\n",
      "Epoch 88/100\n",
      "13/13 [==============================] - 0s 3ms/step - loss: 0.6171 - val_loss: 1.4953\n",
      "Epoch 89/100\n",
      "13/13 [==============================] - 0s 3ms/step - loss: 0.6162 - val_loss: 1.4943\n",
      "Epoch 90/100\n",
      "13/13 [==============================] - 0s 6ms/step - loss: 0.6153 - val_loss: 1.4935\n",
      "Epoch 91/100\n",
      "13/13 [==============================] - 0s 4ms/step - loss: 0.6145 - val_loss: 1.4927\n",
      "Epoch 92/100\n",
      "13/13 [==============================] - 0s 3ms/step - loss: 0.6136 - val_loss: 1.4918\n",
      "Epoch 93/100\n",
      "13/13 [==============================] - 0s 3ms/step - loss: 0.6128 - val_loss: 1.4910\n",
      "Epoch 94/100\n",
      "13/13 [==============================] - 0s 3ms/step - loss: 0.6120 - val_loss: 1.4902\n",
      "Epoch 95/100\n",
      "13/13 [==============================] - 0s 3ms/step - loss: 0.6112 - val_loss: 1.4895\n",
      "Epoch 96/100\n",
      "13/13 [==============================] - 0s 3ms/step - loss: 0.6104 - val_loss: 1.4887\n",
      "Epoch 97/100\n",
      "13/13 [==============================] - 0s 3ms/step - loss: 0.6097 - val_loss: 1.4880\n",
      "Epoch 98/100\n",
      "13/13 [==============================] - 0s 3ms/step - loss: 0.6090 - val_loss: 1.4873\n",
      "Epoch 99/100\n",
      "13/13 [==============================] - 0s 3ms/step - loss: 0.6083 - val_loss: 1.4866\n",
      "Epoch 100/100\n",
      "13/13 [==============================] - 0s 3ms/step - loss: 0.6076 - val_loss: 1.4859\n"
     ]
    },
    {
     "data": {
      "text/plain": [
       "<keras.callbacks.History at 0x1a7b973a170>"
      ]
     },
     "execution_count": 16,
     "metadata": {},
     "output_type": "execute_result"
    }
   ],
   "source": [
    "autoencoder.fit(X_train, X_train, epochs=100, batch_size=32, validation_data=(X_test, X_test))"
   ]
  },
  {
   "cell_type": "code",
   "execution_count": 17,
   "metadata": {
    "id": "j9lrEmkBLVE3"
   },
   "outputs": [],
   "source": [
    "encoder = tf.keras.Model(input_layer, encoded)\n",
    "encoded_input = tf.keras.Input(shape=(encoding_dim,))\n",
    "classifier_layer = tf.keras.layers.Dense(1, activation='sigmoid')(encoded_input)\n",
    "classifier = tf.keras.Model(encoded_input, classifier_layer)"
   ]
  },
  {
   "cell_type": "code",
   "execution_count": 18,
   "metadata": {
    "colab": {
     "base_uri": "https://localhost:8080/"
    },
    "id": "hthZtrLJLcNQ",
    "outputId": "c41c38d6-3dd2-4efc-ad0a-4f805407c75e"
   },
   "outputs": [
    {
     "name": "stdout",
     "output_type": "stream",
     "text": [
      "13/13 [==============================] - 0s 916us/step\n",
      "6/6 [==============================] - 0s 1ms/step\n",
      "Epoch 1/100\n",
      "13/13 [==============================] - 1s 21ms/step - loss: 1.0118 - accuracy: 0.7045 - val_loss: 1.0864 - val_accuracy: 0.7000\n",
      "Epoch 2/100\n",
      "13/13 [==============================] - 0s 4ms/step - loss: 0.9875 - accuracy: 0.7045 - val_loss: 1.0603 - val_accuracy: 0.7000\n",
      "Epoch 3/100\n",
      "13/13 [==============================] - 0s 3ms/step - loss: 0.9632 - accuracy: 0.7045 - val_loss: 1.0355 - val_accuracy: 0.7000\n",
      "Epoch 4/100\n",
      "13/13 [==============================] - 0s 4ms/step - loss: 0.9398 - accuracy: 0.7045 - val_loss: 1.0112 - val_accuracy: 0.7000\n",
      "Epoch 5/100\n",
      "13/13 [==============================] - 0s 3ms/step - loss: 0.9166 - accuracy: 0.7045 - val_loss: 0.9863 - val_accuracy: 0.7059\n",
      "Epoch 6/100\n",
      "13/13 [==============================] - 0s 3ms/step - loss: 0.8929 - accuracy: 0.7071 - val_loss: 0.9624 - val_accuracy: 0.7118\n",
      "Epoch 7/100\n",
      "13/13 [==============================] - 0s 3ms/step - loss: 0.8710 - accuracy: 0.7096 - val_loss: 0.9388 - val_accuracy: 0.7118\n",
      "Epoch 8/100\n",
      "13/13 [==============================] - 0s 3ms/step - loss: 0.8486 - accuracy: 0.7121 - val_loss: 0.9155 - val_accuracy: 0.7118\n",
      "Epoch 9/100\n",
      "13/13 [==============================] - 0s 3ms/step - loss: 0.8263 - accuracy: 0.7172 - val_loss: 0.8930 - val_accuracy: 0.7176\n",
      "Epoch 10/100\n",
      "13/13 [==============================] - 0s 4ms/step - loss: 0.8049 - accuracy: 0.7172 - val_loss: 0.8703 - val_accuracy: 0.7235\n",
      "Epoch 11/100\n",
      "13/13 [==============================] - 0s 4ms/step - loss: 0.7843 - accuracy: 0.7146 - val_loss: 0.8477 - val_accuracy: 0.7294\n",
      "Epoch 12/100\n",
      "13/13 [==============================] - 0s 4ms/step - loss: 0.7635 - accuracy: 0.7146 - val_loss: 0.8263 - val_accuracy: 0.7353\n",
      "Epoch 13/100\n",
      "13/13 [==============================] - 0s 4ms/step - loss: 0.7438 - accuracy: 0.7197 - val_loss: 0.8055 - val_accuracy: 0.7353\n",
      "Epoch 14/100\n",
      "13/13 [==============================] - 0s 3ms/step - loss: 0.7248 - accuracy: 0.7222 - val_loss: 0.7846 - val_accuracy: 0.7353\n",
      "Epoch 15/100\n",
      "13/13 [==============================] - 0s 4ms/step - loss: 0.7051 - accuracy: 0.7298 - val_loss: 0.7648 - val_accuracy: 0.7471\n",
      "Epoch 16/100\n",
      "13/13 [==============================] - 0s 4ms/step - loss: 0.6869 - accuracy: 0.7374 - val_loss: 0.7452 - val_accuracy: 0.7471\n",
      "Epoch 17/100\n",
      "13/13 [==============================] - 0s 4ms/step - loss: 0.6684 - accuracy: 0.7424 - val_loss: 0.7266 - val_accuracy: 0.7529\n",
      "Epoch 18/100\n",
      "13/13 [==============================] - 0s 4ms/step - loss: 0.6515 - accuracy: 0.7424 - val_loss: 0.7075 - val_accuracy: 0.7529\n",
      "Epoch 19/100\n",
      "13/13 [==============================] - 0s 4ms/step - loss: 0.6335 - accuracy: 0.7475 - val_loss: 0.6894 - val_accuracy: 0.7529\n",
      "Epoch 20/100\n",
      "13/13 [==============================] - 0s 4ms/step - loss: 0.6167 - accuracy: 0.7525 - val_loss: 0.6720 - val_accuracy: 0.7588\n",
      "Epoch 21/100\n",
      "13/13 [==============================] - 0s 4ms/step - loss: 0.6008 - accuracy: 0.7551 - val_loss: 0.6535 - val_accuracy: 0.7588\n",
      "Epoch 22/100\n",
      "13/13 [==============================] - 0s 4ms/step - loss: 0.5838 - accuracy: 0.7576 - val_loss: 0.6369 - val_accuracy: 0.7588\n",
      "Epoch 23/100\n",
      "13/13 [==============================] - 0s 4ms/step - loss: 0.5681 - accuracy: 0.7576 - val_loss: 0.6209 - val_accuracy: 0.7706\n",
      "Epoch 24/100\n",
      "13/13 [==============================] - 0s 4ms/step - loss: 0.5533 - accuracy: 0.7626 - val_loss: 0.6045 - val_accuracy: 0.7765\n",
      "Epoch 25/100\n",
      "13/13 [==============================] - 0s 4ms/step - loss: 0.5383 - accuracy: 0.7702 - val_loss: 0.5888 - val_accuracy: 0.7765\n",
      "Epoch 26/100\n",
      "13/13 [==============================] - 0s 4ms/step - loss: 0.5240 - accuracy: 0.7727 - val_loss: 0.5738 - val_accuracy: 0.7765\n",
      "Epoch 27/100\n",
      "13/13 [==============================] - 0s 4ms/step - loss: 0.5100 - accuracy: 0.7803 - val_loss: 0.5588 - val_accuracy: 0.7824\n",
      "Epoch 28/100\n",
      "13/13 [==============================] - 0s 4ms/step - loss: 0.4965 - accuracy: 0.7879 - val_loss: 0.5443 - val_accuracy: 0.7882\n",
      "Epoch 29/100\n",
      "13/13 [==============================] - 0s 7ms/step - loss: 0.4830 - accuracy: 0.7955 - val_loss: 0.5310 - val_accuracy: 0.7882\n",
      "Epoch 30/100\n",
      "13/13 [==============================] - 0s 4ms/step - loss: 0.4704 - accuracy: 0.8005 - val_loss: 0.5172 - val_accuracy: 0.7882\n",
      "Epoch 31/100\n",
      "13/13 [==============================] - 0s 3ms/step - loss: 0.4579 - accuracy: 0.8030 - val_loss: 0.5047 - val_accuracy: 0.7882\n",
      "Epoch 32/100\n",
      "13/13 [==============================] - 0s 4ms/step - loss: 0.4457 - accuracy: 0.8056 - val_loss: 0.4903 - val_accuracy: 0.7941\n",
      "Epoch 33/100\n",
      "13/13 [==============================] - 0s 4ms/step - loss: 0.4339 - accuracy: 0.8106 - val_loss: 0.4778 - val_accuracy: 0.7941\n",
      "Epoch 34/100\n",
      "13/13 [==============================] - 0s 3ms/step - loss: 0.4225 - accuracy: 0.8157 - val_loss: 0.4657 - val_accuracy: 0.8000\n",
      "Epoch 35/100\n",
      "13/13 [==============================] - 0s 4ms/step - loss: 0.4119 - accuracy: 0.8157 - val_loss: 0.4543 - val_accuracy: 0.8059\n",
      "Epoch 36/100\n",
      "13/13 [==============================] - 0s 4ms/step - loss: 0.4013 - accuracy: 0.8182 - val_loss: 0.4440 - val_accuracy: 0.8059\n",
      "Epoch 37/100\n",
      "13/13 [==============================] - 0s 4ms/step - loss: 0.3916 - accuracy: 0.8232 - val_loss: 0.4335 - val_accuracy: 0.8118\n",
      "Epoch 38/100\n",
      "13/13 [==============================] - 0s 3ms/step - loss: 0.3823 - accuracy: 0.8333 - val_loss: 0.4228 - val_accuracy: 0.8176\n",
      "Epoch 39/100\n",
      "13/13 [==============================] - 0s 3ms/step - loss: 0.3723 - accuracy: 0.8384 - val_loss: 0.4134 - val_accuracy: 0.8235\n",
      "Epoch 40/100\n",
      "13/13 [==============================] - 0s 3ms/step - loss: 0.3634 - accuracy: 0.8485 - val_loss: 0.4038 - val_accuracy: 0.8353\n",
      "Epoch 41/100\n",
      "13/13 [==============================] - 0s 4ms/step - loss: 0.3548 - accuracy: 0.8510 - val_loss: 0.3943 - val_accuracy: 0.8412\n",
      "Epoch 42/100\n",
      "13/13 [==============================] - 0s 4ms/step - loss: 0.3458 - accuracy: 0.8510 - val_loss: 0.3856 - val_accuracy: 0.8412\n",
      "Epoch 43/100\n",
      "13/13 [==============================] - 0s 3ms/step - loss: 0.3378 - accuracy: 0.8586 - val_loss: 0.3766 - val_accuracy: 0.8588\n",
      "Epoch 44/100\n",
      "13/13 [==============================] - 0s 3ms/step - loss: 0.3295 - accuracy: 0.8636 - val_loss: 0.3687 - val_accuracy: 0.8588\n",
      "Epoch 45/100\n",
      "13/13 [==============================] - 0s 4ms/step - loss: 0.3223 - accuracy: 0.8687 - val_loss: 0.3604 - val_accuracy: 0.8588\n",
      "Epoch 46/100\n",
      "13/13 [==============================] - 0s 3ms/step - loss: 0.3149 - accuracy: 0.8813 - val_loss: 0.3523 - val_accuracy: 0.8706\n",
      "Epoch 47/100\n",
      "13/13 [==============================] - 0s 4ms/step - loss: 0.3073 - accuracy: 0.8864 - val_loss: 0.3453 - val_accuracy: 0.8706\n",
      "Epoch 48/100\n",
      "13/13 [==============================] - 0s 3ms/step - loss: 0.3008 - accuracy: 0.8889 - val_loss: 0.3381 - val_accuracy: 0.8706\n",
      "Epoch 49/100\n",
      "13/13 [==============================] - 0s 4ms/step - loss: 0.2939 - accuracy: 0.8939 - val_loss: 0.3308 - val_accuracy: 0.8706\n",
      "Epoch 50/100\n",
      "13/13 [==============================] - 0s 4ms/step - loss: 0.2873 - accuracy: 0.8990 - val_loss: 0.3241 - val_accuracy: 0.8765\n",
      "Epoch 51/100\n",
      "13/13 [==============================] - 0s 4ms/step - loss: 0.2812 - accuracy: 0.9015 - val_loss: 0.3178 - val_accuracy: 0.8765\n",
      "Epoch 52/100\n",
      "13/13 [==============================] - 0s 4ms/step - loss: 0.2753 - accuracy: 0.9091 - val_loss: 0.3115 - val_accuracy: 0.8824\n",
      "Epoch 53/100\n",
      "13/13 [==============================] - 0s 4ms/step - loss: 0.2695 - accuracy: 0.9091 - val_loss: 0.3054 - val_accuracy: 0.8882\n",
      "Epoch 54/100\n",
      "13/13 [==============================] - 0s 3ms/step - loss: 0.2638 - accuracy: 0.9167 - val_loss: 0.2993 - val_accuracy: 0.8882\n",
      "Epoch 55/100\n",
      "13/13 [==============================] - 0s 6ms/step - loss: 0.2581 - accuracy: 0.9268 - val_loss: 0.2936 - val_accuracy: 0.9000\n",
      "Epoch 56/100\n",
      "13/13 [==============================] - 0s 4ms/step - loss: 0.2528 - accuracy: 0.9318 - val_loss: 0.2879 - val_accuracy: 0.9118\n",
      "Epoch 57/100\n",
      "13/13 [==============================] - 0s 3ms/step - loss: 0.2476 - accuracy: 0.9343 - val_loss: 0.2824 - val_accuracy: 0.9235\n",
      "Epoch 58/100\n",
      "13/13 [==============================] - 0s 3ms/step - loss: 0.2426 - accuracy: 0.9369 - val_loss: 0.2773 - val_accuracy: 0.9235\n",
      "Epoch 59/100\n",
      "13/13 [==============================] - 0s 4ms/step - loss: 0.2376 - accuracy: 0.9369 - val_loss: 0.2721 - val_accuracy: 0.9294\n",
      "Epoch 60/100\n",
      "13/13 [==============================] - 0s 4ms/step - loss: 0.2329 - accuracy: 0.9394 - val_loss: 0.2671 - val_accuracy: 0.9294\n",
      "Epoch 61/100\n",
      "13/13 [==============================] - 0s 4ms/step - loss: 0.2283 - accuracy: 0.9394 - val_loss: 0.2624 - val_accuracy: 0.9294\n",
      "Epoch 62/100\n",
      "13/13 [==============================] - 0s 4ms/step - loss: 0.2238 - accuracy: 0.9394 - val_loss: 0.2579 - val_accuracy: 0.9412\n",
      "Epoch 63/100\n",
      "13/13 [==============================] - 0s 4ms/step - loss: 0.2196 - accuracy: 0.9444 - val_loss: 0.2535 - val_accuracy: 0.9471\n",
      "Epoch 64/100\n",
      "13/13 [==============================] - 0s 4ms/step - loss: 0.2155 - accuracy: 0.9444 - val_loss: 0.2489 - val_accuracy: 0.9471\n",
      "Epoch 65/100\n",
      "13/13 [==============================] - 0s 3ms/step - loss: 0.2112 - accuracy: 0.9470 - val_loss: 0.2447 - val_accuracy: 0.9471\n",
      "Epoch 66/100\n",
      "13/13 [==============================] - 0s 3ms/step - loss: 0.2072 - accuracy: 0.9470 - val_loss: 0.2407 - val_accuracy: 0.9529\n",
      "Epoch 67/100\n",
      "13/13 [==============================] - 0s 4ms/step - loss: 0.2034 - accuracy: 0.9470 - val_loss: 0.2367 - val_accuracy: 0.9588\n",
      "Epoch 68/100\n",
      "13/13 [==============================] - 0s 3ms/step - loss: 0.1997 - accuracy: 0.9495 - val_loss: 0.2327 - val_accuracy: 0.9588\n",
      "Epoch 69/100\n",
      "13/13 [==============================] - 0s 3ms/step - loss: 0.1958 - accuracy: 0.9495 - val_loss: 0.2290 - val_accuracy: 0.9588\n",
      "Epoch 70/100\n",
      "13/13 [==============================] - 0s 4ms/step - loss: 0.1923 - accuracy: 0.9495 - val_loss: 0.2252 - val_accuracy: 0.9588\n",
      "Epoch 71/100\n",
      "13/13 [==============================] - 0s 3ms/step - loss: 0.1888 - accuracy: 0.9520 - val_loss: 0.2215 - val_accuracy: 0.9588\n",
      "Epoch 72/100\n",
      "13/13 [==============================] - 0s 3ms/step - loss: 0.1854 - accuracy: 0.9545 - val_loss: 0.2182 - val_accuracy: 0.9588\n",
      "Epoch 73/100\n",
      "13/13 [==============================] - 0s 3ms/step - loss: 0.1822 - accuracy: 0.9545 - val_loss: 0.2147 - val_accuracy: 0.9588\n",
      "Epoch 74/100\n",
      "13/13 [==============================] - 0s 4ms/step - loss: 0.1789 - accuracy: 0.9545 - val_loss: 0.2114 - val_accuracy: 0.9588\n",
      "Epoch 75/100\n",
      "13/13 [==============================] - 0s 3ms/step - loss: 0.1758 - accuracy: 0.9545 - val_loss: 0.2082 - val_accuracy: 0.9588\n",
      "Epoch 76/100\n",
      "13/13 [==============================] - 0s 4ms/step - loss: 0.1728 - accuracy: 0.9545 - val_loss: 0.2051 - val_accuracy: 0.9588\n",
      "Epoch 77/100\n",
      "13/13 [==============================] - 0s 3ms/step - loss: 0.1698 - accuracy: 0.9545 - val_loss: 0.2021 - val_accuracy: 0.9588\n",
      "Epoch 78/100\n",
      "13/13 [==============================] - 0s 4ms/step - loss: 0.1670 - accuracy: 0.9545 - val_loss: 0.1992 - val_accuracy: 0.9706\n",
      "Epoch 79/100\n",
      "13/13 [==============================] - 0s 3ms/step - loss: 0.1642 - accuracy: 0.9571 - val_loss: 0.1964 - val_accuracy: 0.9765\n",
      "Epoch 80/100\n",
      "13/13 [==============================] - 0s 3ms/step - loss: 0.1616 - accuracy: 0.9596 - val_loss: 0.1935 - val_accuracy: 0.9765\n",
      "Epoch 81/100\n",
      "13/13 [==============================] - 0s 6ms/step - loss: 0.1589 - accuracy: 0.9621 - val_loss: 0.1907 - val_accuracy: 0.9765\n",
      "Epoch 82/100\n",
      "13/13 [==============================] - 0s 4ms/step - loss: 0.1563 - accuracy: 0.9621 - val_loss: 0.1881 - val_accuracy: 0.9765\n",
      "Epoch 83/100\n",
      "13/13 [==============================] - 0s 3ms/step - loss: 0.1538 - accuracy: 0.9621 - val_loss: 0.1855 - val_accuracy: 0.9765\n",
      "Epoch 84/100\n",
      "13/13 [==============================] - 0s 4ms/step - loss: 0.1513 - accuracy: 0.9621 - val_loss: 0.1831 - val_accuracy: 0.9765\n",
      "Epoch 85/100\n",
      "13/13 [==============================] - 0s 4ms/step - loss: 0.1490 - accuracy: 0.9646 - val_loss: 0.1806 - val_accuracy: 0.9765\n",
      "Epoch 86/100\n",
      "13/13 [==============================] - 0s 4ms/step - loss: 0.1467 - accuracy: 0.9672 - val_loss: 0.1782 - val_accuracy: 0.9824\n",
      "Epoch 87/100\n",
      "13/13 [==============================] - 0s 3ms/step - loss: 0.1443 - accuracy: 0.9697 - val_loss: 0.1758 - val_accuracy: 0.9824\n",
      "Epoch 88/100\n",
      "13/13 [==============================] - 0s 4ms/step - loss: 0.1421 - accuracy: 0.9697 - val_loss: 0.1736 - val_accuracy: 0.9824\n",
      "Epoch 89/100\n",
      "13/13 [==============================] - 0s 4ms/step - loss: 0.1399 - accuracy: 0.9722 - val_loss: 0.1713 - val_accuracy: 0.9824\n",
      "Epoch 90/100\n",
      "13/13 [==============================] - 0s 4ms/step - loss: 0.1377 - accuracy: 0.9722 - val_loss: 0.1692 - val_accuracy: 0.9824\n",
      "Epoch 91/100\n",
      "13/13 [==============================] - 0s 4ms/step - loss: 0.1356 - accuracy: 0.9722 - val_loss: 0.1671 - val_accuracy: 0.9824\n",
      "Epoch 92/100\n",
      "13/13 [==============================] - 0s 4ms/step - loss: 0.1336 - accuracy: 0.9722 - val_loss: 0.1649 - val_accuracy: 0.9824\n",
      "Epoch 93/100\n",
      "13/13 [==============================] - 0s 4ms/step - loss: 0.1317 - accuracy: 0.9747 - val_loss: 0.1627 - val_accuracy: 0.9824\n",
      "Epoch 94/100\n",
      "13/13 [==============================] - 0s 3ms/step - loss: 0.1297 - accuracy: 0.9773 - val_loss: 0.1608 - val_accuracy: 0.9824\n",
      "Epoch 95/100\n",
      "13/13 [==============================] - 0s 3ms/step - loss: 0.1278 - accuracy: 0.9773 - val_loss: 0.1588 - val_accuracy: 0.9824\n",
      "Epoch 96/100\n",
      "13/13 [==============================] - 0s 4ms/step - loss: 0.1259 - accuracy: 0.9773 - val_loss: 0.1568 - val_accuracy: 0.9824\n",
      "Epoch 97/100\n",
      "13/13 [==============================] - 0s 4ms/step - loss: 0.1240 - accuracy: 0.9773 - val_loss: 0.1549 - val_accuracy: 0.9824\n",
      "Epoch 98/100\n",
      "13/13 [==============================] - 0s 3ms/step - loss: 0.1222 - accuracy: 0.9773 - val_loss: 0.1531 - val_accuracy: 0.9824\n",
      "Epoch 99/100\n",
      "13/13 [==============================] - 0s 3ms/step - loss: 0.1206 - accuracy: 0.9798 - val_loss: 0.1513 - val_accuracy: 0.9824\n",
      "Epoch 100/100\n",
      "13/13 [==============================] - 0s 4ms/step - loss: 0.1188 - accuracy: 0.9798 - val_loss: 0.1495 - val_accuracy: 0.9824\n"
     ]
    },
    {
     "data": {
      "text/plain": [
       "<keras.callbacks.History at 0x1a7bab7fee0>"
      ]
     },
     "execution_count": 18,
     "metadata": {},
     "output_type": "execute_result"
    }
   ],
   "source": [
    "classifier.compile(optimizer='adam', loss='binary_crossentropy', metrics=['accuracy'])\n",
    "classifier.fit(encoder.predict(X_train), y_train, epochs=100, batch_size=32, validation_data=(encoder.predict(X_test), y_test))"
   ]
  },
  {
   "cell_type": "code",
   "execution_count": 19,
   "metadata": {
    "colab": {
     "base_uri": "https://localhost:8080/"
    },
    "id": "H34XpUN5FP_Y",
    "outputId": "8c24fd86-f2f7-490c-e78c-4c12ec13eef1"
   },
   "outputs": [
    {
     "name": "stdout",
     "output_type": "stream",
     "text": [
      "6/6 [==============================] - 0s 2ms/step\n",
      "6/6 [==============================] - 0s 2ms/step\n"
     ]
    }
   ],
   "source": [
    "y_pred = classifier.predict(encoder.predict(X_test))"
   ]
  },
  {
   "cell_type": "code",
   "execution_count": 20,
   "metadata": {
    "id": "RV-QgMK-FRlV"
   },
   "outputs": [],
   "source": [
    "y_pred = y_pred.round()"
   ]
  },
  {
   "cell_type": "code",
   "execution_count": 21,
   "metadata": {
    "colab": {
     "base_uri": "https://localhost:8080/"
    },
    "id": "lkEmxqwXocK4",
    "outputId": "2b7db302-fd69-4ad9-ac76-e19d394acec6"
   },
   "outputs": [
    {
     "name": "stdout",
     "output_type": "stream",
     "text": [
      "              precision    recall  f1-score   support\n",
      "\n",
      "           0       1.00      0.93      0.96        41\n",
      "           1       0.98      1.00      0.99       129\n",
      "\n",
      "    accuracy                           0.98       170\n",
      "   macro avg       0.99      0.96      0.98       170\n",
      "weighted avg       0.98      0.98      0.98       170\n",
      "\n"
     ]
    }
   ],
   "source": [
    "print(classification_report(y_test, y_pred))"
   ]
  },
  {
   "cell_type": "code",
   "execution_count": 22,
   "metadata": {
    "colab": {
     "base_uri": "https://localhost:8080/"
    },
    "id": "5fZTQr8_FW0A",
    "outputId": "7f7b6ac6-49b8-4f8e-e46c-edaefff79335"
   },
   "outputs": [
    {
     "name": "stdout",
     "output_type": "stream",
     "text": [
      "Report\n",
      "Accuracy: 98.23529411764706\n"
     ]
    }
   ],
   "source": [
    "print(\"Report\")\n",
    "accuracy = (accuracy_score(y_test,y_pred)*100)\n",
    "print(\"Accuracy:\", accuracy)"
   ]
  },
  {
   "cell_type": "code",
   "execution_count": 23,
   "metadata": {},
   "outputs": [
    {
     "data": {
      "text/plain": [
       "0.9885057471264368"
      ]
     },
     "execution_count": 23,
     "metadata": {},
     "output_type": "execute_result"
    }
   ],
   "source": [
    "f1_score(y_test,y_pred)"
   ]
  },
  {
   "cell_type": "code",
   "execution_count": 24,
   "metadata": {},
   "outputs": [
    {
     "data": {
      "text/plain": [
       "0.9823529411764705"
      ]
     },
     "execution_count": 24,
     "metadata": {},
     "output_type": "execute_result"
    }
   ],
   "source": [
    "recall_score(y_test,y_pred,average='weighted')"
   ]
  },
  {
   "cell_type": "code",
   "execution_count": 25,
   "metadata": {},
   "outputs": [
    {
     "data": {
      "text/plain": [
       "0.9772727272727273"
      ]
     },
     "execution_count": 25,
     "metadata": {},
     "output_type": "execute_result"
    }
   ],
   "source": [
    "precision_score(y_test,y_pred)"
   ]
  },
  {
   "cell_type": "code",
   "execution_count": 32,
   "metadata": {
    "colab": {
     "base_uri": "https://localhost:8080/"
    },
    "id": "eYEOLxW3FYkz",
    "outputId": "f1d391ed-a014-43a9-cddb-db9a4a15d560"
   },
   "outputs": [
    {
     "name": "stdout",
     "output_type": "stream",
     "text": [
      "Confusion matrix\n",
      "[[ 38   3]\n",
      " [  0 129]]\n"
     ]
    }
   ],
   "source": [
    "print(\"Confusion matrix\")\n",
    "cm2=confusion_matrix(y_test,y_pred)\n",
    "print(cm2)"
   ]
  },
  {
   "cell_type": "code",
   "execution_count": 33,
   "metadata": {
    "colab": {
     "base_uri": "https://localhost:8080/"
    },
    "id": "2WZiE-mqFZ9B",
    "outputId": "798b16a8-9a33-4b8a-84e0-9083e16a6cba"
   },
   "outputs": [
    {
     "name": "stdout",
     "output_type": "stream",
     "text": [
      "Sensitivity :  1.0\n"
     ]
    }
   ],
   "source": [
    "sensitivity2 = cm2[1,1]/(cm2[1,1]+cm2[1,0])\n",
    "print('Sensitivity : ', sensitivity2 )"
   ]
  },
  {
   "cell_type": "code",
   "execution_count": 34,
   "metadata": {
    "colab": {
     "base_uri": "https://localhost:8080/"
    },
    "id": "dd_92oexFcGw",
    "outputId": "37f4d62e-7022-4c3c-9fc0-c49a19aa0842"
   },
   "outputs": [
    {
     "name": "stdout",
     "output_type": "stream",
     "text": [
      "Specificity :  0.926829268292683\n"
     ]
    }
   ],
   "source": [
    "specificity2 = cm2[0,0]/(cm2[0,0]+cm2[0,1])\n",
    "print('Specificity : ',specificity2)"
   ]
  },
  {
   "cell_type": "code",
   "execution_count": 35,
   "metadata": {
    "colab": {
     "base_uri": "https://localhost:8080/",
     "height": 525
    },
    "id": "uCEg4btYFe0U",
    "outputId": "fffe6b7a-f74d-4432-bf68-472df208b759"
   },
   "outputs": [
    {
     "name": "stdout",
     "output_type": "stream",
     "text": [
      "True Positive : 129\n",
      "True Negative : 38\n",
      "False Positive : 3\n",
      "False Negative : 0\n",
      "\n",
      "True Positive Rate : 1.0\n",
      "True Negative Rate : 0.926829268292683\n",
      "False Positive Rate : 0.07317073170731707\n",
      "False Negative Rate : 0.0\n",
      "\n",
      "Positive Predictive Value : 0.9772727272727273\n",
      "Negative predictive value : 1.0\n",
      "Confusion matrix:\n",
      "[[ 38   3]\n",
      " [  0 129]]\n"
     ]
    },
    {
     "data": {
      "image/png": "[encoded data removed]",
      "text/plain": [
       "<Figure size 640x480 with 2 Axes>"
      ]
     },
     "metadata": {},
     "output_type": "display_data"
    }
   ],
   "source": [
    "TN = cm2[0][0]\n",
    "FN = cm2[1][0]\n",
    "TP = cm2[1][1]\n",
    "FP = cm2[0][1]\n",
    "print(\"True Positive :\",TP)\n",
    "print(\"True Negative :\",TN)\n",
    "print(\"False Positive :\",FP)\n",
    "print(\"False Negative :\",FN)\n",
    "print(\"\")\n",
    "TPR = TP/(TP+FN)\n",
    "TNR = TN/(TN+FP)\n",
    "FPR = FP/(FP+TN)\n",
    "FNR = FN/(TP+FN)\n",
    "print(\"True Positive Rate :\",TPR)\n",
    "print(\"True Negative Rate :\",TNR)\n",
    "print(\"False Positive Rate :\",FPR)\n",
    "print(\"False Negative Rate :\",FNR)\n",
    "print(\"\")\n",
    "PPV = TP/(TP+FP)\n",
    "NPV = TN/(TN+FN)\n",
    "print(\"Positive Predictive Value :\",PPV)\n",
    "print(\"Negative predictive value :\",NPV)\n",
    "\n",
    "\n",
    "cm2=confusion_matrix(y_test, y_pred)\n",
    "print('Confusion matrix:')\n",
    "print(cm2)\n",
    "\n",
    "\n",
    "\n",
    "sns.heatmap(cm2/np.sum(cm2), annot=True, cmap = 'Blues', annot_kws={\"size\": 16},fmt='.2%')\n",
    "plt.show()"
   ]
  },
  {
   "cell_type": "code",
   "execution_count": 36,
   "metadata": {
    "colab": {
     "base_uri": "https://localhost:8080/"
    },
    "id": "olTGVSq_FhSx",
    "outputId": "8739491f-defc-4213-aeb6-ddfc3ee18dc4"
   },
   "outputs": [
    {
     "name": "stdout",
     "output_type": "stream",
     "text": [
      "Keras weights file (<HDF5 file \"variables.h5\" (mode r+)>) saving:\n",
      "...layers\\dense\n",
      "......vars\n",
      ".........0\n",
      ".........1\n",
      "...layers\\input_layer\n",
      "......vars\n",
      "...metrics\\mean\n",
      "......vars\n",
      ".........0\n",
      ".........1\n",
      "...metrics\\mean_metric_wrapper\n",
      "......vars\n",
      ".........0\n",
      ".........1\n",
      "...optimizer\n",
      "......vars\n",
      ".........0\n",
      ".........1\n",
      ".........2\n",
      ".........3\n",
      ".........4\n",
      "...vars\n",
      "Keras model archive saving:\n",
      "File Name                                             Modified             Size\n",
      "config.json                                    2023-03-23 14:28:46         1142\n",
      "metadata.json                                  2023-03-23 14:28:46           64\n",
      "variables.h5                                   2023-03-23 14:28:46        16960\n"
     ]
    }
   ],
   "source": [
    "pickle.dump(classifier, open('Liver-AE.pkl', 'wb'))"
   ]
  }
 ],
 "metadata": {
  "colab": {
   "provenance": []
  },
  "kernelspec": {
   "display_name": "Python 3 (ipykernel)",
   "language": "python",
   "name": "python3"
  },
  "language_info": {
   "codemirror_mode": {
    "name": "ipython",
    "version": 3
   },
   "file_extension": ".py",
   "mimetype": "text/x-python",
   "name": "python",
   "nbconvert_exporter": "python",
   "pygments_lexer": "ipython3",
   "version": "3.11.8"
  },
  "vscode": {
   "interpreter": {
    "hash": "e2076ff54751707b9c94963792d719a797a7861086d57b7d458fe9594c9a081d"
   }
  }
 },
 "nbformat": 4,
 "nbformat_minor": 4
}
