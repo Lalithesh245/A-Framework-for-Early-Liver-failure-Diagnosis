{
 "cells": [
  {
   "cell_type": "code",
   "execution_count": null,
   "metadata": {
    "collapsed": true,
    "id": "WwZYsLfDocKz",
    "jupyter": {
     "outputs_hidden": true
    }
   },
   "outputs": [],
   "source": [
    "import pandas as pd\n",
    "from sklearn.neural_network import MLPClassifier\n",
    "from sklearn.model_selection import train_test_split\n",
    "import matplotlib.pyplot as plt\n",
    "import numpy as np\n",
    "import seaborn as sns\n",
    "import warnings\n",
    "import pickle\n",
    "from sklearn.metrics import confusion_matrix, classification_report, accuracy_score, recall_score, f1_score, precision_score\n",
    "warnings.filterwarnings(\"ignore\")"
   ]
  },
  {
   "cell_type": "code",
   "execution_count": null,
   "metadata": {
    "id": "2MdRHpYUocK0"
   },
   "outputs": [],
   "source": [
    "df = pd.read_csv(\"C:\\\\Users\\\\User\\\\Desktop\\\\fproject\\\\dataset\\\\liver_patient.csv\")"
   ]
  },
  {
   "cell_type": "code",
   "execution_count": null,
   "metadata": {
    "colab": {
     "base_uri": "https://localhost:8080/",
     "height": 270
    },
    "id": "HQADWVMK05L1",
    "outputId": "dfea48bf-c261-4765-a393-1c60c279caef"
   },
   "outputs": [
    {
     "data": {
      "text/html": [
       "<div>\n",
       "<style scoped>\n",
       "    .dataframe tbody tr th:only-of-type {\n",
       "        vertical-align: middle;\n",
       "    }\n",
       "\n",
       "    .dataframe tbody tr th {\n",
       "        vertical-align: top;\n",
       "    }\n",
       "\n",
       "    .dataframe thead th {\n",
       "        text-align: right;\n",
       "    }\n",
       "</style>\n",
       "<table border=\"1\" class=\"dataframe\">\n",
       "  <thead>\n",
       "    <tr style=\"text-align: right;\">\n",
       "      <th></th>\n",
       "      <th>Age</th>\n",
       "      <th>Gender</th>\n",
       "      <th>Total_Bilirubin</th>\n",
       "      <th>Direct_Bilirubin</th>\n",
       "      <th>Alkaline_Phosphotase</th>\n",
       "      <th>Alamine_Aminotransferase</th>\n",
       "      <th>Aspartate_Aminotransferase</th>\n",
       "      <th>Total_Protiens</th>\n",
       "      <th>Albumin</th>\n",
       "      <th>Albumin_and_Globulin_Ratio</th>\n",
       "      <th>Dataset</th>\n",
       "    </tr>\n",
       "  </thead>\n",
       "  <tbody>\n",
       "    <tr>\n",
       "      <th>0</th>\n",
       "      <td>65</td>\n",
       "      <td>Female</td>\n",
       "      <td>0.7</td>\n",
       "      <td>0.1</td>\n",
       "      <td>187</td>\n",
       "      <td>16</td>\n",
       "      <td>18</td>\n",
       "      <td>6.8</td>\n",
       "      <td>3.3</td>\n",
       "      <td>0.90</td>\n",
       "      <td>1</td>\n",
       "    </tr>\n",
       "    <tr>\n",
       "      <th>1</th>\n",
       "      <td>62</td>\n",
       "      <td>Male</td>\n",
       "      <td>10.9</td>\n",
       "      <td>5.5</td>\n",
       "      <td>699</td>\n",
       "      <td>64</td>\n",
       "      <td>100</td>\n",
       "      <td>7.5</td>\n",
       "      <td>3.2</td>\n",
       "      <td>0.74</td>\n",
       "      <td>1</td>\n",
       "    </tr>\n",
       "    <tr>\n",
       "      <th>2</th>\n",
       "      <td>62</td>\n",
       "      <td>Male</td>\n",
       "      <td>7.3</td>\n",
       "      <td>4.1</td>\n",
       "      <td>490</td>\n",
       "      <td>60</td>\n",
       "      <td>68</td>\n",
       "      <td>7.0</td>\n",
       "      <td>3.3</td>\n",
       "      <td>0.89</td>\n",
       "      <td>1</td>\n",
       "    </tr>\n",
       "    <tr>\n",
       "      <th>3</th>\n",
       "      <td>58</td>\n",
       "      <td>Male</td>\n",
       "      <td>1.0</td>\n",
       "      <td>0.4</td>\n",
       "      <td>182</td>\n",
       "      <td>14</td>\n",
       "      <td>20</td>\n",
       "      <td>6.8</td>\n",
       "      <td>3.4</td>\n",
       "      <td>1.00</td>\n",
       "      <td>1</td>\n",
       "    </tr>\n",
       "    <tr>\n",
       "      <th>4</th>\n",
       "      <td>72</td>\n",
       "      <td>Male</td>\n",
       "      <td>3.9</td>\n",
       "      <td>2.0</td>\n",
       "      <td>195</td>\n",
       "      <td>27</td>\n",
       "      <td>59</td>\n",
       "      <td>7.3</td>\n",
       "      <td>2.4</td>\n",
       "      <td>0.40</td>\n",
       "      <td>1</td>\n",
       "    </tr>\n",
       "  </tbody>\n",
       "</table>\n",
       "</div>"
      ],
      "text/plain": [
       "   Age  Gender  Total_Bilirubin  Direct_Bilirubin  Alkaline_Phosphotase  \\\n",
       "0   65  Female              0.7               0.1                   187   \n",
       "1   62    Male             10.9               5.5                   699   \n",
       "2   62    Male              7.3               4.1                   490   \n",
       "3   58    Male              1.0               0.4                   182   \n",
       "4   72    Male              3.9               2.0                   195   \n",
       "\n",
       "   Alamine_Aminotransferase  Aspartate_Aminotransferase  Total_Protiens  \\\n",
       "0                        16                          18             6.8   \n",
       "1                        64                         100             7.5   \n",
       "2                        60                          68             7.0   \n",
       "3                        14                          20             6.8   \n",
       "4                        27                          59             7.3   \n",
       "\n",
       "   Albumin  Albumin_and_Globulin_Ratio  Dataset  \n",
       "0      3.3                        0.90        1  \n",
       "1      3.2                        0.74        1  \n",
       "2      3.3                        0.89        1  \n",
       "3      3.4                        1.00        1  \n",
       "4      2.4                        0.40        1  "
      ]
     },
     "execution_count": 32,
     "metadata": {},
     "output_type": "execute_result"
    }
   ],
   "source": [
    "df.head()"
   ]
  },
  {
   "cell_type": "code",
   "execution_count": null,
   "metadata": {
    "colab": {
     "base_uri": "https://localhost:8080/"
    },
    "id": "gWH2PPDj1BEh",
    "outputId": "ae080365-721f-4cd6-e9f9-0481f41de81a"
   },
   "outputs": [
    {
     "data": {
      "text/plain": [
       "13"
      ]
     },
     "execution_count": 33,
     "metadata": {},
     "output_type": "execute_result"
    }
   ],
   "source": [
    "df.duplicated().sum()"
   ]
  },
  {
   "cell_type": "code",
   "execution_count": null,
   "metadata": {
    "id": "bP8cCWtk1H90"
   },
   "outputs": [],
   "source": [
    "df = df.drop_duplicates()"
   ]
  },
  {
   "cell_type": "code",
   "execution_count": null,
   "metadata": {
    "colab": {
     "base_uri": "https://localhost:8080/"
    },
    "id": "DcidhYnxgkY7",
    "outputId": "a24cd222-b002-40ef-ed39-60534ff3634f"
   },
   "outputs": [
    {
     "data": {
      "text/plain": [
       "0"
      ]
     },
     "execution_count": 35,
     "metadata": {},
     "output_type": "execute_result"
    }
   ],
   "source": [
    "df.duplicated().sum()"
   ]
  },
  {
   "cell_type": "code",
   "execution_count": null,
   "metadata": {
    "colab": {
     "base_uri": "https://localhost:8080/"
    },
    "id": "vfNYYpYEgqlq",
    "outputId": "516f8cba-6c4a-4cb2-d340-4aef00b4dd8a"
   },
   "outputs": [
    {
     "data": {
      "text/plain": [
       "Age                           0\n",
       "Gender                        0\n",
       "Total_Bilirubin               0\n",
       "Direct_Bilirubin              0\n",
       "Alkaline_Phosphotase          0\n",
       "Alamine_Aminotransferase      0\n",
       "Aspartate_Aminotransferase    0\n",
       "Total_Protiens                0\n",
       "Albumin                       0\n",
       "Albumin_and_Globulin_Ratio    4\n",
       "Dataset                       0\n",
       "dtype: int64"
      ]
     },
     "execution_count": 36,
     "metadata": {},
     "output_type": "execute_result"
    }
   ],
   "source": [
    "df.isnull().sum()"
   ]
  },
  {
   "cell_type": "code",
   "execution_count": null,
   "metadata": {
    "id": "IuAVJfT01g2l"
   },
   "outputs": [],
   "source": [
    "df = df.dropna()"
   ]
  },
  {
   "cell_type": "code",
   "execution_count": null,
   "metadata": {
    "colab": {
     "base_uri": "https://localhost:8080/"
    },
    "id": "HJGb2rDs1rsJ",
    "outputId": "89ca69ca-b5e8-40fb-ebb7-9893861395fb"
   },
   "outputs": [
    {
     "data": {
      "text/plain": [
       "Age                           0\n",
       "Gender                        0\n",
       "Total_Bilirubin               0\n",
       "Direct_Bilirubin              0\n",
       "Alkaline_Phosphotase          0\n",
       "Alamine_Aminotransferase      0\n",
       "Aspartate_Aminotransferase    0\n",
       "Total_Protiens                0\n",
       "Albumin                       0\n",
       "Albumin_and_Globulin_Ratio    0\n",
       "Dataset                       0\n",
       "dtype: int64"
      ]
     },
     "execution_count": 38,
     "metadata": {},
     "output_type": "execute_result"
    }
   ],
   "source": [
    "df.isnull().sum()"
   ]
  },
  {
   "cell_type": "code",
   "execution_count": null,
   "metadata": {
    "id": "YR2Qc5h61tyn"
   },
   "outputs": [],
   "source": [
    "df = df.rename({'Dataset':'Result'},axis=1)"
   ]
  },
  {
   "cell_type": "code",
   "execution_count": null,
   "metadata": {
    "colab": {
     "base_uri": "https://localhost:8080/"
    },
    "id": "qqt-HRjd2605",
    "outputId": "4d353d28-4e77-4f09-dfa5-b0cc836be8ae"
   },
   "outputs": [
    {
     "data": {
      "text/plain": [
       "Index(['Age', 'Gender', 'Total_Bilirubin', 'Direct_Bilirubin',\n",
       "       'Alkaline_Phosphotase', 'Alamine_Aminotransferase',\n",
       "       'Aspartate_Aminotransferase', 'Total_Protiens', 'Albumin',\n",
       "       'Albumin_and_Globulin_Ratio', 'Result'],\n",
       "      dtype='object')"
      ]
     },
     "execution_count": 40,
     "metadata": {},
     "output_type": "execute_result"
    }
   ],
   "source": [
    "df.columns"
   ]
  },
  {
   "cell_type": "code",
   "execution_count": null,
   "metadata": {
    "id": "29GMi12K4fTs"
   },
   "outputs": [],
   "source": [
    "from sklearn.preprocessing import LabelEncoder\n",
    "var_mod = ['Gender']\n",
    "le = LabelEncoder()\n",
    "for i in var_mod:\n",
    "  df[i] = le.fit_transform(df[i]).astype(int)"
   ]
  },
  {
   "cell_type": "code",
   "execution_count": null,
   "metadata": {
    "colab": {
     "base_uri": "https://localhost:8080/",
     "height": 458
    },
    "id": "Kbj_8L2M5M5s",
    "outputId": "c66923b6-0046-4c37-ea58-5cc55065df2d"
   },
   "outputs": [
    {
     "data": {
      "text/html": [
       "<div>\n",
       "<style scoped>\n",
       "    .dataframe tbody tr th:only-of-type {\n",
       "        vertical-align: middle;\n",
       "    }\n",
       "\n",
       "    .dataframe tbody tr th {\n",
       "        vertical-align: top;\n",
       "    }\n",
       "\n",
       "    .dataframe thead th {\n",
       "        text-align: right;\n",
       "    }\n",
       "</style>\n",
       "<table border=\"1\" class=\"dataframe\">\n",
       "  <thead>\n",
       "    <tr style=\"text-align: right;\">\n",
       "      <th></th>\n",
       "      <th>Age</th>\n",
       "      <th>Gender</th>\n",
       "      <th>Total_Bilirubin</th>\n",
       "      <th>Direct_Bilirubin</th>\n",
       "      <th>Alkaline_Phosphotase</th>\n",
       "      <th>Alamine_Aminotransferase</th>\n",
       "      <th>Aspartate_Aminotransferase</th>\n",
       "      <th>Total_Protiens</th>\n",
       "      <th>Albumin</th>\n",
       "      <th>Albumin_and_Globulin_Ratio</th>\n",
       "      <th>Result</th>\n",
       "    </tr>\n",
       "  </thead>\n",
       "  <tbody>\n",
       "    <tr>\n",
       "      <th>Age</th>\n",
       "      <td>1.000000</td>\n",
       "      <td>0.057542</td>\n",
       "      <td>0.010704</td>\n",
       "      <td>0.006268</td>\n",
       "      <td>0.080085</td>\n",
       "      <td>-0.084319</td>\n",
       "      <td>-0.017352</td>\n",
       "      <td>-0.195893</td>\n",
       "      <td>-0.269448</td>\n",
       "      <td>-0.215967</td>\n",
       "      <td>-0.133821</td>\n",
       "    </tr>\n",
       "    <tr>\n",
       "      <th>Gender</th>\n",
       "      <td>0.057542</td>\n",
       "      <td>1.000000</td>\n",
       "      <td>0.089068</td>\n",
       "      <td>0.100448</td>\n",
       "      <td>-0.024879</td>\n",
       "      <td>0.083336</td>\n",
       "      <td>0.080593</td>\n",
       "      <td>-0.092049</td>\n",
       "      <td>-0.093208</td>\n",
       "      <td>-0.005611</td>\n",
       "      <td>-0.077396</td>\n",
       "    </tr>\n",
       "    <tr>\n",
       "      <th>Total_Bilirubin</th>\n",
       "      <td>0.010704</td>\n",
       "      <td>0.089068</td>\n",
       "      <td>1.000000</td>\n",
       "      <td>0.873975</td>\n",
       "      <td>0.205286</td>\n",
       "      <td>0.216776</td>\n",
       "      <td>0.238167</td>\n",
       "      <td>-0.008423</td>\n",
       "      <td>-0.223979</td>\n",
       "      <td>-0.207740</td>\n",
       "      <td>-0.224467</td>\n",
       "    </tr>\n",
       "    <tr>\n",
       "      <th>Direct_Bilirubin</th>\n",
       "      <td>0.006268</td>\n",
       "      <td>0.100448</td>\n",
       "      <td>0.873975</td>\n",
       "      <td>1.000000</td>\n",
       "      <td>0.233653</td>\n",
       "      <td>0.236731</td>\n",
       "      <td>0.257965</td>\n",
       "      <td>-0.000735</td>\n",
       "      <td>-0.230650</td>\n",
       "      <td>-0.201519</td>\n",
       "      <td>-0.250926</td>\n",
       "    </tr>\n",
       "    <tr>\n",
       "      <th>Alkaline_Phosphotase</th>\n",
       "      <td>0.080085</td>\n",
       "      <td>-0.024879</td>\n",
       "      <td>0.205286</td>\n",
       "      <td>0.233653</td>\n",
       "      <td>1.000000</td>\n",
       "      <td>0.125917</td>\n",
       "      <td>0.166609</td>\n",
       "      <td>-0.028623</td>\n",
       "      <td>-0.166287</td>\n",
       "      <td>-0.236251</td>\n",
       "      <td>-0.186057</td>\n",
       "    </tr>\n",
       "    <tr>\n",
       "      <th>Alamine_Aminotransferase</th>\n",
       "      <td>-0.084319</td>\n",
       "      <td>0.083336</td>\n",
       "      <td>0.216776</td>\n",
       "      <td>0.236731</td>\n",
       "      <td>0.125917</td>\n",
       "      <td>1.000000</td>\n",
       "      <td>0.791754</td>\n",
       "      <td>-0.035104</td>\n",
       "      <td>-0.026890</td>\n",
       "      <td>-0.006525</td>\n",
       "      <td>-0.161617</td>\n",
       "    </tr>\n",
       "    <tr>\n",
       "      <th>Aspartate_Aminotransferase</th>\n",
       "      <td>-0.017352</td>\n",
       "      <td>0.080593</td>\n",
       "      <td>0.238167</td>\n",
       "      <td>0.257965</td>\n",
       "      <td>0.166609</td>\n",
       "      <td>0.791754</td>\n",
       "      <td>1.000000</td>\n",
       "      <td>-0.022114</td>\n",
       "      <td>-0.084821</td>\n",
       "      <td>-0.072899</td>\n",
       "      <td>-0.151009</td>\n",
       "    </tr>\n",
       "    <tr>\n",
       "      <th>Total_Protiens</th>\n",
       "      <td>-0.195893</td>\n",
       "      <td>-0.092049</td>\n",
       "      <td>-0.008423</td>\n",
       "      <td>-0.000735</td>\n",
       "      <td>-0.028623</td>\n",
       "      <td>-0.035104</td>\n",
       "      <td>-0.022114</td>\n",
       "      <td>1.000000</td>\n",
       "      <td>0.783800</td>\n",
       "      <td>0.234576</td>\n",
       "      <td>0.036443</td>\n",
       "    </tr>\n",
       "    <tr>\n",
       "      <th>Albumin</th>\n",
       "      <td>-0.269448</td>\n",
       "      <td>-0.093208</td>\n",
       "      <td>-0.223979</td>\n",
       "      <td>-0.230650</td>\n",
       "      <td>-0.166287</td>\n",
       "      <td>-0.026890</td>\n",
       "      <td>-0.084821</td>\n",
       "      <td>0.783800</td>\n",
       "      <td>1.000000</td>\n",
       "      <td>0.687438</td>\n",
       "      <td>0.165273</td>\n",
       "    </tr>\n",
       "    <tr>\n",
       "      <th>Albumin_and_Globulin_Ratio</th>\n",
       "      <td>-0.215967</td>\n",
       "      <td>-0.005611</td>\n",
       "      <td>-0.207740</td>\n",
       "      <td>-0.201519</td>\n",
       "      <td>-0.236251</td>\n",
       "      <td>-0.006525</td>\n",
       "      <td>-0.072899</td>\n",
       "      <td>0.234576</td>\n",
       "      <td>0.687438</td>\n",
       "      <td>1.000000</td>\n",
       "      <td>0.171402</td>\n",
       "    </tr>\n",
       "    <tr>\n",
       "      <th>Result</th>\n",
       "      <td>-0.133821</td>\n",
       "      <td>-0.077396</td>\n",
       "      <td>-0.224467</td>\n",
       "      <td>-0.250926</td>\n",
       "      <td>-0.186057</td>\n",
       "      <td>-0.161617</td>\n",
       "      <td>-0.151009</td>\n",
       "      <td>0.036443</td>\n",
       "      <td>0.165273</td>\n",
       "      <td>0.171402</td>\n",
       "      <td>1.000000</td>\n",
       "    </tr>\n",
       "  </tbody>\n",
       "</table>\n",
       "</div>"
      ],
      "text/plain": [
       "                                 Age    Gender  Total_Bilirubin  \\\n",
       "Age                         1.000000  0.057542         0.010704   \n",
       "Gender                      0.057542  1.000000         0.089068   \n",
       "Total_Bilirubin             0.010704  0.089068         1.000000   \n",
       "Direct_Bilirubin            0.006268  0.100448         0.873975   \n",
       "Alkaline_Phosphotase        0.080085 -0.024879         0.205286   \n",
       "Alamine_Aminotransferase   -0.084319  0.083336         0.216776   \n",
       "Aspartate_Aminotransferase -0.017352  0.080593         0.238167   \n",
       "Total_Protiens             -0.195893 -0.092049        -0.008423   \n",
       "Albumin                    -0.269448 -0.093208        -0.223979   \n",
       "Albumin_and_Globulin_Ratio -0.215967 -0.005611        -0.207740   \n",
       "Result                     -0.133821 -0.077396        -0.224467   \n",
       "\n",
       "                            Direct_Bilirubin  Alkaline_Phosphotase  \\\n",
       "Age                                 0.006268              0.080085   \n",
       "Gender                              0.100448             -0.024879   \n",
       "Total_Bilirubin                     0.873975              0.205286   \n",
       "Direct_Bilirubin                    1.000000              0.233653   \n",
       "Alkaline_Phosphotase                0.233653              1.000000   \n",
       "Alamine_Aminotransferase            0.236731              0.125917   \n",
       "Aspartate_Aminotransferase          0.257965              0.166609   \n",
       "Total_Protiens                     -0.000735             -0.028623   \n",
       "Albumin                            -0.230650             -0.166287   \n",
       "Albumin_and_Globulin_Ratio         -0.201519             -0.236251   \n",
       "Result                             -0.250926             -0.186057   \n",
       "\n",
       "                            Alamine_Aminotransferase  \\\n",
       "Age                                        -0.084319   \n",
       "Gender                                      0.083336   \n",
       "Total_Bilirubin                             0.216776   \n",
       "Direct_Bilirubin                            0.236731   \n",
       "Alkaline_Phosphotase                        0.125917   \n",
       "Alamine_Aminotransferase                    1.000000   \n",
       "Aspartate_Aminotransferase                  0.791754   \n",
       "Total_Protiens                             -0.035104   \n",
       "Albumin                                    -0.026890   \n",
       "Albumin_and_Globulin_Ratio                 -0.006525   \n",
       "Result                                     -0.161617   \n",
       "\n",
       "                            Aspartate_Aminotransferase  Total_Protiens  \\\n",
       "Age                                          -0.017352       -0.195893   \n",
       "Gender                                        0.080593       -0.092049   \n",
       "Total_Bilirubin                               0.238167       -0.008423   \n",
       "Direct_Bilirubin                              0.257965       -0.000735   \n",
       "Alkaline_Phosphotase                          0.166609       -0.028623   \n",
       "Alamine_Aminotransferase                      0.791754       -0.035104   \n",
       "Aspartate_Aminotransferase                    1.000000       -0.022114   \n",
       "Total_Protiens                               -0.022114        1.000000   \n",
       "Albumin                                      -0.084821        0.783800   \n",
       "Albumin_and_Globulin_Ratio                   -0.072899        0.234576   \n",
       "Result                                       -0.151009        0.036443   \n",
       "\n",
       "                             Albumin  Albumin_and_Globulin_Ratio    Result  \n",
       "Age                        -0.269448                   -0.215967 -0.133821  \n",
       "Gender                     -0.093208                   -0.005611 -0.077396  \n",
       "Total_Bilirubin            -0.223979                   -0.207740 -0.224467  \n",
       "Direct_Bilirubin           -0.230650                   -0.201519 -0.250926  \n",
       "Alkaline_Phosphotase       -0.166287                   -0.236251 -0.186057  \n",
       "Alamine_Aminotransferase   -0.026890                   -0.006525 -0.161617  \n",
       "Aspartate_Aminotransferase -0.084821                   -0.072899 -0.151009  \n",
       "Total_Protiens              0.783800                    0.234576  0.036443  \n",
       "Albumin                     1.000000                    0.687438  0.165273  \n",
       "Albumin_and_Globulin_Ratio  0.687438                    1.000000  0.171402  \n",
       "Result                      0.165273                    0.171402  1.000000  "
      ]
     },
     "execution_count": 42,
     "metadata": {},
     "output_type": "execute_result"
    }
   ],
   "source": [
    "df.corr()"
   ]
  },
  {
   "cell_type": "code",
   "execution_count": null,
   "metadata": {
    "id": "yId11gknocK3"
   },
   "outputs": [],
   "source": [
    "df_sex = pd.get_dummies(df['Gender'])\n",
    "df_new = pd.concat([df, df_sex], axis=1)\n",
    "Droop_gender = df_new.drop(labels=['Gender' ],axis=1 )\n",
    "Droop_gender.columns = ['Age', 'Total_Bilirubin', 'Direct_Bilirubin','Alkaline_Phosphotase','Alamine_Aminotransferase','Aspartate_Aminotransferase','Total_Protiens','Albumin','Albumin_and_Globulin_Ratio','Male','Fmale','Result']\n",
    "\n",
    "X = Droop_gender.drop('Result',axis=1)\n",
    "y = Droop_gender['Result']\n",
    "\n",
    "\n",
    "# split data\n",
    "X_train, X_test, y_train, y_test = train_test_split(X, y, test_size = 0.3, random_state = 1, stratify = y)\n"
   ]
  },
  {
   "cell_type": "code",
   "execution_count": null,
   "metadata": {
    "id": "ATXKl_E-ocK3"
   },
   "outputs": [],
   "source": [
    "from sklearn.preprocessing import StandardScaler\n",
    "sc = StandardScaler()\n",
    "X_train = sc.fit_transform(X_train)\n",
    "X_test = sc.transform(X_test)\n"
   ]
  },
  {
   "cell_type": "code",
   "execution_count": null,
   "metadata": {
    "id": "Yfo2INzoocK3"
   },
   "outputs": [],
   "source": [
    "#classifier = Sequential() # Initialising the MLP\n",
    "\n",
    "#classifier.add(Dense(units = 16, kernel_initializer = 'uniform', activation = 'relu', input_dim = 10))\n",
    "#classifier.add(Dense(units = 8, kernel_initializer = 'uniform', activation = 'relu'))\n",
    "#classifier.add(Dense(units = 6, kernel_initializer = 'uniform', activation = 'relu'))\n",
    "#classifier.add(Dense(units = 1, kernel_initializer = 'uniform', activation = 'sigmoid'))\n",
    "classifier = MLPClassifier(hidden_layer_sizes=(10, 10), max_iter=1000,activation='relu', solver='adam', random_state=42)\n",
    "# compile MLP\n",
    "#classifier.compile(optimizer = 'sgd', loss = 'binary_crossentropy', metrics = ['accuracy'])\n",
    "\n",
    "# Fitting the data\n",
    "#history =classifier.fit(X_train, y_train, batch_size = 20, epochs = 50)\n",
    "history = classifier.fit(X_train,y_train)"
   ]
  },
  {
   "cell_type": "code",
   "execution_count": null,
   "metadata": {
    "id": "Y6Y9XQUedBQb"
   },
   "outputs": [],
   "source": [
    "predictions = history.predict(X_test)"
   ]
  },
  {
   "cell_type": "code",
   "execution_count": null,
   "metadata": {
    "colab": {
     "base_uri": "https://localhost:8080/"
    },
    "id": "9DVaM53Iqizl",
    "outputId": "80d0b662-436d-45ef-b9a3-92b6f63aca3e"
   },
   "outputs": [
    {
     "data": {
      "text/plain": [
       "array([1, 1, 1, 1, 0, 1, 1, 1, 0, 1, 0, 0, 1, 1, 1, 1, 0, 1, 1, 1, 1, 1,\n",
       "       1, 1, 0, 1, 0, 1, 0, 1, 0, 0, 0, 0, 0, 1, 0, 1, 1, 0, 0, 0, 1, 1,\n",
       "       1, 1, 1, 1, 1, 0, 0, 0, 1, 1, 1, 1, 1, 1, 1, 1, 1, 1, 1, 1, 1, 1,\n",
       "       1, 0, 1, 1, 1, 0, 1, 1, 1, 1, 1, 1, 1, 1, 1, 1, 1, 1, 1, 1, 0, 1,\n",
       "       1, 1, 0, 1, 0, 1, 1, 1, 1, 0, 1, 1, 1, 1, 1, 0, 1, 1, 1, 1, 0, 1,\n",
       "       1, 1, 1, 1, 0, 1, 1, 1, 1, 0, 1, 1, 1, 0, 1, 1, 1, 1, 1, 1, 0, 0,\n",
       "       1, 0, 1, 0, 0, 1, 1, 1, 1, 1, 1, 1, 1, 1, 1, 0, 0, 1, 0, 1, 1, 1,\n",
       "       1, 1, 1, 1, 0, 1, 1, 1, 1, 1, 1, 1, 1, 1, 1, 1], dtype=uint8)"
      ]
     },
     "execution_count": 47,
     "metadata": {},
     "output_type": "execute_result"
    }
   ],
   "source": [
    "predictions"
   ]
  },
  {
   "cell_type": "code",
   "execution_count": null,
   "metadata": {
    "colab": {
     "base_uri": "https://localhost:8080/"
    },
    "id": "mWCD_rkvwOaQ",
    "outputId": "9ce98b18-f2e5-41a2-a127-048042c4931f"
   },
   "outputs": [
    {
     "name": "stdout",
     "output_type": "stream",
     "text": [
      "              precision    recall  f1-score   support\n",
      "\n",
      "           0       1.00      0.98      0.99        41\n",
      "           1       0.99      1.00      1.00       129\n",
      "\n",
      "    accuracy                           0.99       170\n",
      "   macro avg       1.00      0.99      0.99       170\n",
      "weighted avg       0.99      0.99      0.99       170\n",
      "\n"
     ]
    }
   ],
   "source": [
    "print(classification_report(y_test,predictions))"
   ]
  },
  {
   "cell_type": "code",
   "execution_count": null,
   "metadata": {
    "colab": {
     "base_uri": "https://localhost:8080/"
    },
    "id": "9gIzTczIjW2w",
    "outputId": "080648f9-a440-4304-bfad-19d82ba188b0"
   },
   "outputs": [
    {
     "name": "stdout",
     "output_type": "stream",
     "text": [
      "Report\n",
      "Accuracy: 99.41176470588235\n"
     ]
    }
   ],
   "source": [
    "print(\"Report\")\n",
    "accuracy = (accuracy_score(y_test,predictions)*100)\n",
    "print(\"Accuracy:\", accuracy)"
   ]
  },
  {
   "cell_type": "code",
   "execution_count": null,
   "metadata": {
    "id": "W-F-y-Vodh8E",
    "outputId": "e9c50302-1a14-442e-8808-9be943d4f64a"
   },
   "outputs": [
    {
     "data": {
      "text/plain": [
       "0.9961389961389961"
      ]
     },
     "execution_count": 50,
     "metadata": {},
     "output_type": "execute_result"
    }
   ],
   "source": [
    "f1_score(y_test,predictions)"
   ]
  },
  {
   "cell_type": "code",
   "execution_count": null,
   "metadata": {
    "id": "at3Nd1hHdh8F",
    "outputId": "bc701a71-ce4a-46ba-f8a1-334defadd273"
   },
   "outputs": [
    {
     "data": {
      "text/plain": [
       "0.9941176470588236"
      ]
     },
     "execution_count": 51,
     "metadata": {},
     "output_type": "execute_result"
    }
   ],
   "source": [
    "recall_score(y_test,predictions,average='weighted')"
   ]
  },
  {
   "cell_type": "code",
   "execution_count": null,
   "metadata": {
    "id": "U3gbM7jTdh8F",
    "outputId": "31fa3688-d3ac-4138-8fb2-6b786b50d511"
   },
   "outputs": [
    {
     "data": {
      "text/plain": [
       "0.9923076923076923"
      ]
     },
     "execution_count": 52,
     "metadata": {},
     "output_type": "execute_result"
    }
   ],
   "source": [
    "precision_score(y_test,predictions)"
   ]
  },
  {
   "cell_type": "code",
   "execution_count": null,
   "metadata": {
    "colab": {
     "base_uri": "https://localhost:8080/"
    },
    "id": "-krqIFrLwFOz",
    "outputId": "b527c232-85e8-41ba-f6b9-6bec96e8924c"
   },
   "outputs": [
    {
     "name": "stdout",
     "output_type": "stream",
     "text": [
      "Confusion matrix\n",
      "[[ 40   1]\n",
      " [  0 129]]\n"
     ]
    }
   ],
   "source": [
    "print(\"Confusion matrix\")\n",
    "cm2=confusion_matrix(y_test,predictions)\n",
    "print(cm2)"
   ]
  },
  {
   "cell_type": "code",
   "execution_count": null,
   "metadata": {
    "colab": {
     "base_uri": "https://localhost:8080/"
    },
    "id": "DXT_9tSMlNtI",
    "outputId": "bef322aa-56bb-4523-f253-416a6958bbfd"
   },
   "outputs": [
    {
     "name": "stdout",
     "output_type": "stream",
     "text": [
      "Sensitivity :  1.0\n"
     ]
    }
   ],
   "source": [
    "sensitivity2 = cm2[1,1]/(cm2[1,1]+cm2[1,0])\n",
    "print('Sensitivity : ', sensitivity2 )"
   ]
  },
  {
   "cell_type": "code",
   "execution_count": null,
   "metadata": {
    "colab": {
     "base_uri": "https://localhost:8080/"
    },
    "id": "GJ2I8yIryTHS",
    "outputId": "d0607c18-56d7-4a49-d16c-fdf133a04746"
   },
   "outputs": [
    {
     "name": "stdout",
     "output_type": "stream",
     "text": [
      "Specificity :  0.975609756097561\n"
     ]
    }
   ],
   "source": [
    "specificity2 = cm2[0,0]/(cm2[0,0]+cm2[0,1])\n",
    "print('Specificity : ',specificity2)"
   ]
  },
  {
   "cell_type": "code",
   "execution_count": null,
   "metadata": {
    "colab": {
     "base_uri": "https://localhost:8080/",
     "height": 525
    },
    "id": "gQg-CaBuM4NL",
    "outputId": "c5a2ffbf-2b76-4597-a456-54a8e6c325ec"
   },
   "outputs": [
    {
     "name": "stdout",
     "output_type": "stream",
     "text": [
      "True Positive : 129\n",
      "True Negative : 40\n",
      "False Positive : 1\n",
      "False Negative : 0\n",
      "\n",
      "True Positive Rate : 1.0\n",
      "True Negative Rate : 0.975609756097561\n",
      "False Positive Rate : 0.024390243902439025\n",
      "False Negative Rate : 0.0\n",
      "\n",
      "Positive Predictive Value : 0.9923076923076923\n",
      "Negative predictive value : 1.0\n",
      "Confusion matrix:\n",
      "[[ 40   1]\n",
      " [  0 129]]\n"
     ]
    },
    {
     "data": {
      "image/png": "[encoded data removed]",
      "text/plain": [
       "<Figure size 640x480 with 2 Axes>"
      ]
     },
     "metadata": {},
     "output_type": "display_data"
    }
   ],
   "source": [
    "TN = cm2[0][0]\n",
    "FN = cm2[1][0]\n",
    "TP = cm2[1][1]\n",
    "FP = cm2[0][1]\n",
    "print(\"True Positive :\",TP)\n",
    "print(\"True Negative :\",TN)\n",
    "print(\"False Positive :\",FP)\n",
    "print(\"False Negative :\",FN)\n",
    "print(\"\")\n",
    "TPR = TP/(TP+FN)\n",
    "TNR = TN/(TN+FP)\n",
    "FPR = FP/(FP+TN)\n",
    "FNR = FN/(TP+FN)\n",
    "print(\"True Positive Rate :\",TPR)\n",
    "print(\"True Negative Rate :\",TNR)\n",
    "print(\"False Positive Rate :\",FPR)\n",
    "print(\"False Negative Rate :\",FNR)\n",
    "print(\"\")\n",
    "PPV = TP/(TP+FP)\n",
    "NPV = TN/(TN+FN)\n",
    "print(\"Positive Predictive Value :\",PPV)\n",
    "print(\"Negative predictive value :\",NPV)\n",
    "\n",
    "\n",
    "cm2=confusion_matrix(y_test, predictions)\n",
    "print('Confusion matrix:')\n",
    "print(cm2)\n",
    "\n",
    "\n",
    "\n",
    "sns.heatmap(cm2/np.sum(cm2), annot=True, cmap = 'Blues', annot_kws={\"size\": 16},fmt='.2%')\n",
    "plt.show()"
   ]
  },
  {
   "cell_type": "code",
   "execution_count": null,
   "metadata": {
    "id": "WnMtCIiImoHc"
   },
   "outputs": [],
   "source": [
    "pickle.dump(classifier,open('Liver-MLP.pkl', 'wb'))"
   ]
  }
 ],
 "metadata": {
  "colab": {
   "provenance": []
  },
  "kernelspec": {
   "display_name": "Python 3 (ipykernel)",
   "language": "python",
   "name": "python3"
  },
  "language_info": {
   "codemirror_mode": {
    "name": "ipython",
    "version": 3
   },
   "file_extension": ".py",
   "mimetype": "text/x-python",
   "name": "python",
   "nbconvert_exporter": "python",
   "pygments_lexer": "ipython3",
   "version": "3.11.8"
  },
  "vscode": {
   "interpreter": {
    "hash": "e2076ff54751707b9c94963792d719a797a7861086d57b7d458fe9594c9a081d"
   }
  }
 },
 "nbformat": 4,
 "nbformat_minor": 4
}
