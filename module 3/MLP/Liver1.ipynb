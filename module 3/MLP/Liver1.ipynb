{
 "cells": [
  {
   "cell_type": "code",
   "execution_count": 1,
   "metadata": {
    "id": "WwZYsLfDocKz"
   },
   "outputs": [
    {
     "name": "stderr",
     "output_type": "stream",
     "text": [
      "C:\\Users\\User\\AppData\\Local\\Temp\\ipykernel_16184\\1857596387.py:1: DeprecationWarning: \n",
      "Pyarrow will become a required dependency of pandas in the next major release of pandas (pandas 3.0),\n",
      "(to allow more performant data types, such as the Arrow string type, and better interoperability with other libraries)\n",
      "but was not found to be installed on your system.\n",
      "If this would cause problems for you,\n",
      "please provide us feedback at https://github.com/pandas-dev/pandas/issues/54466\n",
      "        \n",
      "  import pandas as pd\n"
     ]
    }
   ],
   "source": [
    "import pandas as pd\n",
    "from sklearn.neural_network import MLPClassifier\n",
    "from sklearn.model_selection import train_test_split\n",
    "import matplotlib.pyplot as plt\n",
    "import numpy as np\n",
    "import seaborn as sns\n",
    "import warnings\n",
    "import pickle\n",
    "from sklearn.metrics import confusion_matrix, classification_report, accuracy_score, recall_score, f1_score, precision_score\n",
    "warnings.filterwarnings(\"ignore\")"
   ]
  },
  {
   "cell_type": "code",
   "execution_count": 2,
   "metadata": {
    "id": "2MdRHpYUocK0"
   },
   "outputs": [],
   "source": [
    "df = pd.read_csv(\"C:\\\\Users\\\\User\\\\Desktop\\\\fproject\\\\dataset\\\\liver_patient.csv\")"
   ]
  },
  {
   "cell_type": "code",
   "execution_count": 3,
   "metadata": {
    "colab": {
     "base_uri": "https://localhost:8080/",
     "height": 270
    },
    "id": "HQADWVMK05L1",
    "outputId": "dfea48bf-c261-4765-a393-1c60c279caef"
   },
   "outputs": [
    {
     "data": {
      "text/html": [
       "<div>\n",
       "<style scoped>\n",
       "    .dataframe tbody tr th:only-of-type {\n",
       "        vertical-align: middle;\n",
       "    }\n",
       "\n",
       "    .dataframe tbody tr th {\n",
       "        vertical-align: top;\n",
       "    }\n",
       "\n",
       "    .dataframe thead th {\n",
       "        text-align: right;\n",
       "    }\n",
       "</style>\n",
       "<table border=\"1\" class=\"dataframe\">\n",
       "  <thead>\n",
       "    <tr style=\"text-align: right;\">\n",
       "      <th></th>\n",
       "      <th>Age</th>\n",
       "      <th>Gender</th>\n",
       "      <th>Total_Bilirubin</th>\n",
       "      <th>Direct_Bilirubin</th>\n",
       "      <th>Alkaline_Phosphotase</th>\n",
       "      <th>Alamine_Aminotransferase</th>\n",
       "      <th>Aspartate_Aminotransferase</th>\n",
       "      <th>Total_Protiens</th>\n",
       "      <th>Albumin</th>\n",
       "      <th>Albumin_and_Globulin_Ratio</th>\n",
       "      <th>Dataset</th>\n",
       "    </tr>\n",
       "  </thead>\n",
       "  <tbody>\n",
       "    <tr>\n",
       "      <th>0</th>\n",
       "      <td>65</td>\n",
       "      <td>Female</td>\n",
       "      <td>0.7</td>\n",
       "      <td>0.1</td>\n",
       "      <td>187</td>\n",
       "      <td>16</td>\n",
       "      <td>18</td>\n",
       "      <td>6.8</td>\n",
       "      <td>3.3</td>\n",
       "      <td>0.90</td>\n",
       "      <td>1</td>\n",
       "    </tr>\n",
       "    <tr>\n",
       "      <th>1</th>\n",
       "      <td>62</td>\n",
       "      <td>Male</td>\n",
       "      <td>10.9</td>\n",
       "      <td>5.5</td>\n",
       "      <td>699</td>\n",
       "      <td>64</td>\n",
       "      <td>100</td>\n",
       "      <td>7.5</td>\n",
       "      <td>3.2</td>\n",
       "      <td>0.74</td>\n",
       "      <td>1</td>\n",
       "    </tr>\n",
       "    <tr>\n",
       "      <th>2</th>\n",
       "      <td>62</td>\n",
       "      <td>Male</td>\n",
       "      <td>7.3</td>\n",
       "      <td>4.1</td>\n",
       "      <td>490</td>\n",
       "      <td>60</td>\n",
       "      <td>68</td>\n",
       "      <td>7.0</td>\n",
       "      <td>3.3</td>\n",
       "      <td>0.89</td>\n",
       "      <td>1</td>\n",
       "    </tr>\n",
       "    <tr>\n",
       "      <th>3</th>\n",
       "      <td>58</td>\n",
       "      <td>Male</td>\n",
       "      <td>1.0</td>\n",
       "      <td>0.4</td>\n",
       "      <td>182</td>\n",
       "      <td>14</td>\n",
       "      <td>20</td>\n",
       "      <td>6.8</td>\n",
       "      <td>3.4</td>\n",
       "      <td>1.00</td>\n",
       "      <td>1</td>\n",
       "    </tr>\n",
       "    <tr>\n",
       "      <th>4</th>\n",
       "      <td>72</td>\n",
       "      <td>Male</td>\n",
       "      <td>3.9</td>\n",
       "      <td>2.0</td>\n",
       "      <td>195</td>\n",
       "      <td>27</td>\n",
       "      <td>59</td>\n",
       "      <td>7.3</td>\n",
       "      <td>2.4</td>\n",
       "      <td>0.40</td>\n",
       "      <td>1</td>\n",
       "    </tr>\n",
       "  </tbody>\n",
       "</table>\n",
       "</div>"
      ],
      "text/plain": [
       "   Age  Gender  Total_Bilirubin  Direct_Bilirubin  Alkaline_Phosphotase  \\\n",
       "0   65  Female              0.7               0.1                   187   \n",
       "1   62    Male             10.9               5.5                   699   \n",
       "2   62    Male              7.3               4.1                   490   \n",
       "3   58    Male              1.0               0.4                   182   \n",
       "4   72    Male              3.9               2.0                   195   \n",
       "\n",
       "   Alamine_Aminotransferase  Aspartate_Aminotransferase  Total_Protiens  \\\n",
       "0                        16                          18             6.8   \n",
       "1                        64                         100             7.5   \n",
       "2                        60                          68             7.0   \n",
       "3                        14                          20             6.8   \n",
       "4                        27                          59             7.3   \n",
       "\n",
       "   Albumin  Albumin_and_Globulin_Ratio  Dataset  \n",
       "0      3.3                        0.90        1  \n",
       "1      3.2                        0.74        1  \n",
       "2      3.3                        0.89        1  \n",
       "3      3.4                        1.00        1  \n",
       "4      2.4                        0.40        1  "
      ]
     },
     "execution_count": 3,
     "metadata": {},
     "output_type": "execute_result"
    }
   ],
   "source": [
    "df.head()"
   ]
  },
  {
   "cell_type": "code",
   "execution_count": 4,
   "metadata": {
    "colab": {
     "base_uri": "https://localhost:8080/"
    },
    "id": "gWH2PPDj1BEh",
    "outputId": "ae080365-721f-4cd6-e9f9-0481f41de81a"
   },
   "outputs": [
    {
     "data": {
      "text/plain": [
       "587"
      ]
     },
     "execution_count": 4,
     "metadata": {},
     "output_type": "execute_result"
    }
   ],
   "source": [
    "df.duplicated().sum()"
   ]
  },
  {
   "cell_type": "code",
   "execution_count": 5,
   "metadata": {
    "id": "bP8cCWtk1H90"
   },
   "outputs": [],
   "source": [
    "df = df.drop_duplicates()"
   ]
  },
  {
   "cell_type": "code",
   "execution_count": 6,
   "metadata": {
    "colab": {
     "base_uri": "https://localhost:8080/"
    },
    "id": "DcidhYnxgkY7",
    "outputId": "a24cd222-b002-40ef-ed39-60534ff3634f"
   },
   "outputs": [
    {
     "data": {
      "text/plain": [
       "0"
      ]
     },
     "execution_count": 6,
     "metadata": {},
     "output_type": "execute_result"
    }
   ],
   "source": [
    "df.duplicated().sum()"
   ]
  },
  {
   "cell_type": "code",
   "execution_count": 7,
   "metadata": {
    "colab": {
     "base_uri": "https://localhost:8080/"
    },
    "id": "vfNYYpYEgqlq",
    "outputId": "516f8cba-6c4a-4cb2-d340-4aef00b4dd8a"
   },
   "outputs": [
    {
     "data": {
      "text/plain": [
       "Age                           0\n",
       "Gender                        0\n",
       "Total_Bilirubin               0\n",
       "Direct_Bilirubin              0\n",
       "Alkaline_Phosphotase          0\n",
       "Alamine_Aminotransferase      0\n",
       "Aspartate_Aminotransferase    0\n",
       "Total_Protiens                0\n",
       "Albumin                       0\n",
       "Albumin_and_Globulin_Ratio    4\n",
       "Dataset                       0\n",
       "dtype: int64"
      ]
     },
     "execution_count": 7,
     "metadata": {},
     "output_type": "execute_result"
    }
   ],
   "source": [
    "df.isnull().sum()"
   ]
  },
  {
   "cell_type": "code",
   "execution_count": 8,
   "metadata": {
    "id": "IuAVJfT01g2l"
   },
   "outputs": [],
   "source": [
    "df = df.dropna()"
   ]
  },
  {
   "cell_type": "code",
   "execution_count": 9,
   "metadata": {
    "colab": {
     "base_uri": "https://localhost:8080/"
    },
    "id": "HJGb2rDs1rsJ",
    "outputId": "89ca69ca-b5e8-40fb-ebb7-9893861395fb"
   },
   "outputs": [
    {
     "data": {
      "text/plain": [
       "Age                           0\n",
       "Gender                        0\n",
       "Total_Bilirubin               0\n",
       "Direct_Bilirubin              0\n",
       "Alkaline_Phosphotase          0\n",
       "Alamine_Aminotransferase      0\n",
       "Aspartate_Aminotransferase    0\n",
       "Total_Protiens                0\n",
       "Albumin                       0\n",
       "Albumin_and_Globulin_Ratio    0\n",
       "Dataset                       0\n",
       "dtype: int64"
      ]
     },
     "execution_count": 9,
     "metadata": {},
     "output_type": "execute_result"
    }
   ],
   "source": [
    "df.isnull().sum()"
   ]
  },
  {
   "cell_type": "code",
   "execution_count": 10,
   "metadata": {
    "id": "YR2Qc5h61tyn"
   },
   "outputs": [],
   "source": [
    "df = df.rename({'Dataset':'Result'},axis=1)"
   ]
  },
  {
   "cell_type": "code",
   "execution_count": 11,
   "metadata": {
    "colab": {
     "base_uri": "https://localhost:8080/"
    },
    "id": "qqt-HRjd2605",
    "outputId": "4d353d28-4e77-4f09-dfa5-b0cc836be8ae"
   },
   "outputs": [
    {
     "data": {
      "text/plain": [
       "Index(['Age', 'Gender', 'Total_Bilirubin', 'Direct_Bilirubin',\n",
       "       'Alkaline_Phosphotase', 'Alamine_Aminotransferase',\n",
       "       'Aspartate_Aminotransferase', 'Total_Protiens', 'Albumin',\n",
       "       'Albumin_and_Globulin_Ratio', 'Result'],\n",
       "      dtype='object')"
      ]
     },
     "execution_count": 11,
     "metadata": {},
     "output_type": "execute_result"
    }
   ],
   "source": [
    "df.columns"
   ]
  },
  {
   "cell_type": "code",
   "execution_count": 12,
   "metadata": {
    "id": "29GMi12K4fTs"
   },
   "outputs": [],
   "source": [
    "from sklearn.preprocessing import LabelEncoder\n",
    "var_mod = ['Gender']\n",
    "le = LabelEncoder()\n",
    "for i in var_mod:\n",
    "  df[i] = le.fit_transform(df[i]).astype(int)"
   ]
  },
  {
   "cell_type": "code",
   "execution_count": 13,
   "metadata": {
    "colab": {
     "base_uri": "https://localhost:8080/",
     "height": 458
    },
    "id": "Kbj_8L2M5M5s",
    "outputId": "c66923b6-0046-4c37-ea58-5cc55065df2d"
   },
   "outputs": [
    {
     "data": {
      "text/html": [
       "<div>\n",
       "<style scoped>\n",
       "    .dataframe tbody tr th:only-of-type {\n",
       "        vertical-align: middle;\n",
       "    }\n",
       "\n",
       "    .dataframe tbody tr th {\n",
       "        vertical-align: top;\n",
       "    }\n",
       "\n",
       "    .dataframe thead th {\n",
       "        text-align: right;\n",
       "    }\n",
       "</style>\n",
       "<table border=\"1\" class=\"dataframe\">\n",
       "  <thead>\n",
       "    <tr style=\"text-align: right;\">\n",
       "      <th></th>\n",
       "      <th>Age</th>\n",
       "      <th>Gender</th>\n",
       "      <th>Total_Bilirubin</th>\n",
       "      <th>Direct_Bilirubin</th>\n",
       "      <th>Alkaline_Phosphotase</th>\n",
       "      <th>Alamine_Aminotransferase</th>\n",
       "      <th>Aspartate_Aminotransferase</th>\n",
       "      <th>Total_Protiens</th>\n",
       "      <th>Albumin</th>\n",
       "      <th>Albumin_and_Globulin_Ratio</th>\n",
       "      <th>Result</th>\n",
       "    </tr>\n",
       "  </thead>\n",
       "  <tbody>\n",
       "    <tr>\n",
       "      <th>Age</th>\n",
       "      <td>1.000000</td>\n",
       "      <td>0.055803</td>\n",
       "      <td>0.004742</td>\n",
       "      <td>-0.000544</td>\n",
       "      <td>0.074911</td>\n",
       "      <td>-0.087815</td>\n",
       "      <td>-0.021210</td>\n",
       "      <td>-0.206173</td>\n",
       "      <td>-0.272324</td>\n",
       "      <td>-0.213303</td>\n",
       "      <td>-0.118904</td>\n",
       "    </tr>\n",
       "    <tr>\n",
       "      <th>Gender</th>\n",
       "      <td>0.055803</td>\n",
       "      <td>1.000000</td>\n",
       "      <td>0.088014</td>\n",
       "      <td>0.100194</td>\n",
       "      <td>-0.023596</td>\n",
       "      <td>0.082962</td>\n",
       "      <td>0.080687</td>\n",
       "      <td>-0.093133</td>\n",
       "      <td>-0.092707</td>\n",
       "      <td>-0.002848</td>\n",
       "      <td>-0.073852</td>\n",
       "    </tr>\n",
       "    <tr>\n",
       "      <th>Total_Bilirubin</th>\n",
       "      <td>0.004742</td>\n",
       "      <td>0.088014</td>\n",
       "      <td>1.000000</td>\n",
       "      <td>0.874185</td>\n",
       "      <td>0.206120</td>\n",
       "      <td>0.217430</td>\n",
       "      <td>0.239014</td>\n",
       "      <td>-0.004935</td>\n",
       "      <td>-0.221246</td>\n",
       "      <td>-0.207496</td>\n",
       "      <td>-0.224693</td>\n",
       "    </tr>\n",
       "    <tr>\n",
       "      <th>Direct_Bilirubin</th>\n",
       "      <td>-0.000544</td>\n",
       "      <td>0.100194</td>\n",
       "      <td>0.874185</td>\n",
       "      <td>1.000000</td>\n",
       "      <td>0.234568</td>\n",
       "      <td>0.237494</td>\n",
       "      <td>0.259078</td>\n",
       "      <td>0.003976</td>\n",
       "      <td>-0.226912</td>\n",
       "      <td>-0.200823</td>\n",
       "      <td>-0.251431</td>\n",
       "    </tr>\n",
       "    <tr>\n",
       "      <th>Alkaline_Phosphotase</th>\n",
       "      <td>0.074911</td>\n",
       "      <td>-0.023596</td>\n",
       "      <td>0.206120</td>\n",
       "      <td>0.234568</td>\n",
       "      <td>1.000000</td>\n",
       "      <td>0.126782</td>\n",
       "      <td>0.167270</td>\n",
       "      <td>-0.025214</td>\n",
       "      <td>-0.162929</td>\n",
       "      <td>-0.234255</td>\n",
       "      <td>-0.187274</td>\n",
       "    </tr>\n",
       "    <tr>\n",
       "      <th>Alamine_Aminotransferase</th>\n",
       "      <td>-0.087815</td>\n",
       "      <td>0.082962</td>\n",
       "      <td>0.217430</td>\n",
       "      <td>0.237494</td>\n",
       "      <td>0.126782</td>\n",
       "      <td>1.000000</td>\n",
       "      <td>0.791894</td>\n",
       "      <td>-0.031740</td>\n",
       "      <td>-0.025074</td>\n",
       "      <td>-0.006168</td>\n",
       "      <td>-0.161732</td>\n",
       "    </tr>\n",
       "    <tr>\n",
       "      <th>Aspartate_Aminotransferase</th>\n",
       "      <td>-0.021210</td>\n",
       "      <td>0.080687</td>\n",
       "      <td>0.239014</td>\n",
       "      <td>0.259078</td>\n",
       "      <td>0.167270</td>\n",
       "      <td>0.791894</td>\n",
       "      <td>1.000000</td>\n",
       "      <td>-0.019059</td>\n",
       "      <td>-0.082746</td>\n",
       "      <td>-0.071724</td>\n",
       "      <td>-0.151329</td>\n",
       "    </tr>\n",
       "    <tr>\n",
       "      <th>Total_Protiens</th>\n",
       "      <td>-0.206173</td>\n",
       "      <td>-0.093133</td>\n",
       "      <td>-0.004935</td>\n",
       "      <td>0.003976</td>\n",
       "      <td>-0.025214</td>\n",
       "      <td>-0.031740</td>\n",
       "      <td>-0.019059</td>\n",
       "      <td>1.000000</td>\n",
       "      <td>0.785160</td>\n",
       "      <td>0.238659</td>\n",
       "      <td>0.023849</td>\n",
       "    </tr>\n",
       "    <tr>\n",
       "      <th>Albumin</th>\n",
       "      <td>-0.272324</td>\n",
       "      <td>-0.092707</td>\n",
       "      <td>-0.221246</td>\n",
       "      <td>-0.226912</td>\n",
       "      <td>-0.162929</td>\n",
       "      <td>-0.025074</td>\n",
       "      <td>-0.082746</td>\n",
       "      <td>0.785160</td>\n",
       "      <td>1.000000</td>\n",
       "      <td>0.688588</td>\n",
       "      <td>0.157171</td>\n",
       "    </tr>\n",
       "    <tr>\n",
       "      <th>Albumin_and_Globulin_Ratio</th>\n",
       "      <td>-0.213303</td>\n",
       "      <td>-0.002848</td>\n",
       "      <td>-0.207496</td>\n",
       "      <td>-0.200823</td>\n",
       "      <td>-0.234255</td>\n",
       "      <td>-0.006168</td>\n",
       "      <td>-0.071724</td>\n",
       "      <td>0.238659</td>\n",
       "      <td>0.688588</td>\n",
       "      <td>1.000000</td>\n",
       "      <td>0.166607</td>\n",
       "    </tr>\n",
       "    <tr>\n",
       "      <th>Result</th>\n",
       "      <td>-0.118904</td>\n",
       "      <td>-0.073852</td>\n",
       "      <td>-0.224693</td>\n",
       "      <td>-0.251431</td>\n",
       "      <td>-0.187274</td>\n",
       "      <td>-0.161732</td>\n",
       "      <td>-0.151329</td>\n",
       "      <td>0.023849</td>\n",
       "      <td>0.157171</td>\n",
       "      <td>0.166607</td>\n",
       "      <td>1.000000</td>\n",
       "    </tr>\n",
       "  </tbody>\n",
       "</table>\n",
       "</div>"
      ],
      "text/plain": [
       "                                 Age    Gender  Total_Bilirubin  \\\n",
       "Age                         1.000000  0.055803         0.004742   \n",
       "Gender                      0.055803  1.000000         0.088014   \n",
       "Total_Bilirubin             0.004742  0.088014         1.000000   \n",
       "Direct_Bilirubin           -0.000544  0.100194         0.874185   \n",
       "Alkaline_Phosphotase        0.074911 -0.023596         0.206120   \n",
       "Alamine_Aminotransferase   -0.087815  0.082962         0.217430   \n",
       "Aspartate_Aminotransferase -0.021210  0.080687         0.239014   \n",
       "Total_Protiens             -0.206173 -0.093133        -0.004935   \n",
       "Albumin                    -0.272324 -0.092707        -0.221246   \n",
       "Albumin_and_Globulin_Ratio -0.213303 -0.002848        -0.207496   \n",
       "Result                     -0.118904 -0.073852        -0.224693   \n",
       "\n",
       "                            Direct_Bilirubin  Alkaline_Phosphotase  \\\n",
       "Age                                -0.000544              0.074911   \n",
       "Gender                              0.100194             -0.023596   \n",
       "Total_Bilirubin                     0.874185              0.206120   \n",
       "Direct_Bilirubin                    1.000000              0.234568   \n",
       "Alkaline_Phosphotase                0.234568              1.000000   \n",
       "Alamine_Aminotransferase            0.237494              0.126782   \n",
       "Aspartate_Aminotransferase          0.259078              0.167270   \n",
       "Total_Protiens                      0.003976             -0.025214   \n",
       "Albumin                            -0.226912             -0.162929   \n",
       "Albumin_and_Globulin_Ratio         -0.200823             -0.234255   \n",
       "Result                             -0.251431             -0.187274   \n",
       "\n",
       "                            Alamine_Aminotransferase  \\\n",
       "Age                                        -0.087815   \n",
       "Gender                                      0.082962   \n",
       "Total_Bilirubin                             0.217430   \n",
       "Direct_Bilirubin                            0.237494   \n",
       "Alkaline_Phosphotase                        0.126782   \n",
       "Alamine_Aminotransferase                    1.000000   \n",
       "Aspartate_Aminotransferase                  0.791894   \n",
       "Total_Protiens                             -0.031740   \n",
       "Albumin                                    -0.025074   \n",
       "Albumin_and_Globulin_Ratio                 -0.006168   \n",
       "Result                                     -0.161732   \n",
       "\n",
       "                            Aspartate_Aminotransferase  Total_Protiens  \\\n",
       "Age                                          -0.021210       -0.206173   \n",
       "Gender                                        0.080687       -0.093133   \n",
       "Total_Bilirubin                               0.239014       -0.004935   \n",
       "Direct_Bilirubin                              0.259078        0.003976   \n",
       "Alkaline_Phosphotase                          0.167270       -0.025214   \n",
       "Alamine_Aminotransferase                      0.791894       -0.031740   \n",
       "Aspartate_Aminotransferase                    1.000000       -0.019059   \n",
       "Total_Protiens                               -0.019059        1.000000   \n",
       "Albumin                                      -0.082746        0.785160   \n",
       "Albumin_and_Globulin_Ratio                   -0.071724        0.238659   \n",
       "Result                                       -0.151329        0.023849   \n",
       "\n",
       "                             Albumin  Albumin_and_Globulin_Ratio    Result  \n",
       "Age                        -0.272324                   -0.213303 -0.118904  \n",
       "Gender                     -0.092707                   -0.002848 -0.073852  \n",
       "Total_Bilirubin            -0.221246                   -0.207496 -0.224693  \n",
       "Direct_Bilirubin           -0.226912                   -0.200823 -0.251431  \n",
       "Alkaline_Phosphotase       -0.162929                   -0.234255 -0.187274  \n",
       "Alamine_Aminotransferase   -0.025074                   -0.006168 -0.161732  \n",
       "Aspartate_Aminotransferase -0.082746                   -0.071724 -0.151329  \n",
       "Total_Protiens              0.785160                    0.238659  0.023849  \n",
       "Albumin                     1.000000                    0.688588  0.157171  \n",
       "Albumin_and_Globulin_Ratio  0.688588                    1.000000  0.166607  \n",
       "Result                      0.157171                    0.166607  1.000000  "
      ]
     },
     "execution_count": 13,
     "metadata": {},
     "output_type": "execute_result"
    }
   ],
   "source": [
    "df.corr()"
   ]
  },
  {
   "cell_type": "code",
   "execution_count": 14,
   "metadata": {
    "id": "yId11gknocK3"
   },
   "outputs": [],
   "source": [
    "df_sex = pd.get_dummies(df['Gender'])\n",
    "df_new = pd.concat([df, df_sex], axis=1)\n",
    "Droop_gender = df_new.drop(labels=['Gender' ],axis=1 )\n",
    "Droop_gender.columns = ['Age', 'Total_Bilirubin', 'Direct_Bilirubin','Alkaline_Phosphotase','Alamine_Aminotransferase','Aspartate_Aminotransferase','Total_Protiens','Albumin','Albumin_and_Globulin_Ratio','Male','Fmale','Result']\n",
    "\n",
    "X = Droop_gender.drop('Result',axis=1)\n",
    "y = Droop_gender['Result']\n",
    "\n",
    "\n",
    "# split data\n",
    "X_train, X_test, y_train, y_test = train_test_split(X, y, test_size = 0.3, random_state = 1, stratify = y)\n"
   ]
  },
  {
   "cell_type": "code",
   "execution_count": 15,
   "metadata": {
    "id": "ATXKl_E-ocK3"
   },
   "outputs": [],
   "source": [
    "from sklearn.preprocessing import StandardScaler\n",
    "sc = StandardScaler()\n",
    "X_train = sc.fit_transform(X_train)\n",
    "X_test = sc.transform(X_test)\n"
   ]
  },
  {
   "cell_type": "code",
   "execution_count": 16,
   "metadata": {
    "id": "Yfo2INzoocK3"
   },
   "outputs": [],
   "source": [
    "#classifier = Sequential() # Initialising the MLP\n",
    "\n",
    "#classifier.add(Dense(units = 16, kernel_initializer = 'uniform', activation = 'relu', input_dim = 10))\n",
    "#classifier.add(Dense(units = 8, kernel_initializer = 'uniform', activation = 'relu'))\n",
    "#classifier.add(Dense(units = 6, kernel_initializer = 'uniform', activation = 'relu'))\n",
    "#classifier.add(Dense(units = 1, kernel_initializer = 'uniform', activation = 'sigmoid'))\n",
    "classifier = MLPClassifier(hidden_layer_sizes=(10, 10), max_iter=1000,activation='relu', solver='adam', random_state=42)\n",
    "# compile MLP\n",
    "#classifier.compile(optimizer = 'sgd', loss = 'binary_crossentropy', metrics = ['accuracy'])\n",
    "\n",
    "# Fitting the data\n",
    "#history =classifier.fit(X_train, y_train, batch_size = 20, epochs = 50)\n",
    "history = classifier.fit(X_train,y_train)"
   ]
  },
  {
   "cell_type": "code",
   "execution_count": 17,
   "metadata": {
    "id": "Y6Y9XQUedBQb"
   },
   "outputs": [],
   "source": [
    "predictions = history.predict(X_test)"
   ]
  },
  {
   "cell_type": "code",
   "execution_count": 18,
   "metadata": {
    "colab": {
     "base_uri": "https://localhost:8080/"
    },
    "id": "9DVaM53Iqizl",
    "outputId": "80d0b662-436d-45ef-b9a3-92b6f63aca3e"
   },
   "outputs": [
    {
     "data": {
      "text/plain": [
       "array([ True,  True,  True,  True, False, False,  True, False,  True,\n",
       "       False,  True,  True,  True,  True,  True,  True, False,  True,\n",
       "       False, False,  True,  True,  True,  True, False,  True, False,\n",
       "        True,  True,  True,  True, False, False, False,  True,  True,\n",
       "        True,  True, False,  True, False,  True,  True,  True,  True,\n",
       "        True, False,  True, False,  True,  True,  True,  True,  True,\n",
       "        True,  True,  True,  True,  True,  True,  True,  True, False,\n",
       "        True, False, False, False,  True,  True,  True,  True, False,\n",
       "        True,  True,  True,  True,  True,  True,  True,  True,  True,\n",
       "        True,  True, False, False,  True,  True,  True,  True, False,\n",
       "        True,  True,  True,  True, False,  True,  True,  True,  True,\n",
       "        True,  True,  True,  True, False,  True,  True,  True,  True,\n",
       "        True,  True,  True,  True,  True,  True,  True,  True, False,\n",
       "        True,  True,  True,  True, False,  True,  True,  True,  True,\n",
       "        True,  True,  True,  True,  True,  True,  True,  True,  True,\n",
       "        True,  True, False,  True,  True, False,  True,  True, False,\n",
       "        True,  True, False,  True,  True,  True,  True, False,  True,\n",
       "       False,  True,  True, False,  True,  True,  True,  True,  True,\n",
       "        True,  True, False,  True, False, False,  True, False,  True,\n",
       "       False, False])"
      ]
     },
     "execution_count": 18,
     "metadata": {},
     "output_type": "execute_result"
    }
   ],
   "source": [
    "predictions"
   ]
  },
  {
   "cell_type": "code",
   "execution_count": 19,
   "metadata": {
    "colab": {
     "base_uri": "https://localhost:8080/"
    },
    "id": "mWCD_rkvwOaQ",
    "outputId": "9ce98b18-f2e5-41a2-a127-048042c4931f"
   },
   "outputs": [
    {
     "name": "stdout",
     "output_type": "stream",
     "text": [
      "              precision    recall  f1-score   support\n",
      "\n",
      "       False       1.00      0.98      0.99        42\n",
      "        True       0.99      1.00      1.00       131\n",
      "\n",
      "    accuracy                           0.99       173\n",
      "   macro avg       1.00      0.99      0.99       173\n",
      "weighted avg       0.99      0.99      0.99       173\n",
      "\n"
     ]
    }
   ],
   "source": [
    "print(classification_report(y_test,predictions))"
   ]
  },
  {
   "cell_type": "code",
   "execution_count": 20,
   "metadata": {
    "colab": {
     "base_uri": "https://localhost:8080/"
    },
    "id": "9gIzTczIjW2w",
    "outputId": "080648f9-a440-4304-bfad-19d82ba188b0"
   },
   "outputs": [
    {
     "name": "stdout",
     "output_type": "stream",
     "text": [
      "Report\n",
      "Accuracy: 99.42196531791907\n"
     ]
    }
   ],
   "source": [
    "print(\"Report\")\n",
    "accuracy = (accuracy_score(y_test,predictions)*100)\n",
    "print(\"Accuracy:\", accuracy)"
   ]
  },
  {
   "cell_type": "code",
   "execution_count": 21,
   "metadata": {
    "id": "W-F-y-Vodh8E",
    "outputId": "e9c50302-1a14-442e-8808-9be943d4f64a"
   },
   "outputs": [
    {
     "data": {
      "text/plain": [
       "0.9961977186311787"
      ]
     },
     "execution_count": 21,
     "metadata": {},
     "output_type": "execute_result"
    }
   ],
   "source": [
    "f1_score(y_test,predictions)"
   ]
  },
  {
   "cell_type": "code",
   "execution_count": 22,
   "metadata": {
    "id": "at3Nd1hHdh8F",
    "outputId": "bc701a71-ce4a-46ba-f8a1-334defadd273"
   },
   "outputs": [
    {
     "data": {
      "text/plain": [
       "0.9942196531791907"
      ]
     },
     "execution_count": 22,
     "metadata": {},
     "output_type": "execute_result"
    }
   ],
   "source": [
    "recall_score(y_test,predictions,average='weighted')"
   ]
  },
  {
   "cell_type": "code",
   "execution_count": 23,
   "metadata": {
    "id": "U3gbM7jTdh8F",
    "outputId": "31fa3688-d3ac-4138-8fb2-6b786b50d511"
   },
   "outputs": [
    {
     "data": {
      "text/plain": [
       "0.9924242424242424"
      ]
     },
     "execution_count": 23,
     "metadata": {},
     "output_type": "execute_result"
    }
   ],
   "source": [
    "precision_score(y_test,predictions)"
   ]
  },
  {
   "cell_type": "code",
   "execution_count": 24,
   "metadata": {
    "colab": {
     "base_uri": "https://localhost:8080/"
    },
    "id": "-krqIFrLwFOz",
    "outputId": "b527c232-85e8-41ba-f6b9-6bec96e8924c"
   },
   "outputs": [
    {
     "name": "stdout",
     "output_type": "stream",
     "text": [
      "Confusion matrix\n",
      "[[ 41   1]\n",
      " [  0 131]]\n"
     ]
    }
   ],
   "source": [
    "print(\"Confusion matrix\")\n",
    "cm2=confusion_matrix(y_test,predictions)\n",
    "print(cm2)"
   ]
  },
  {
   "cell_type": "code",
   "execution_count": 25,
   "metadata": {
    "colab": {
     "base_uri": "https://localhost:8080/"
    },
    "id": "DXT_9tSMlNtI",
    "outputId": "bef322aa-56bb-4523-f253-416a6958bbfd"
   },
   "outputs": [
    {
     "name": "stdout",
     "output_type": "stream",
     "text": [
      "Sensitivity :  1.0\n"
     ]
    }
   ],
   "source": [
    "sensitivity2 = cm2[1,1]/(cm2[1,1]+cm2[1,0])\n",
    "print('Sensitivity : ', sensitivity2 )"
   ]
  },
  {
   "cell_type": "code",
   "execution_count": 26,
   "metadata": {
    "colab": {
     "base_uri": "https://localhost:8080/"
    },
    "id": "GJ2I8yIryTHS",
    "outputId": "d0607c18-56d7-4a49-d16c-fdf133a04746"
   },
   "outputs": [
    {
     "name": "stdout",
     "output_type": "stream",
     "text": [
      "Specificity :  0.9761904761904762\n"
     ]
    }
   ],
   "source": [
    "specificity2 = cm2[0,0]/(cm2[0,0]+cm2[0,1])\n",
    "print('Specificity : ',specificity2)"
   ]
  },
  {
   "cell_type": "code",
   "execution_count": 27,
   "metadata": {
    "colab": {
     "base_uri": "https://localhost:8080/",
     "height": 525
    },
    "id": "gQg-CaBuM4NL",
    "outputId": "c5a2ffbf-2b76-4597-a456-54a8e6c325ec",
    "scrolled": true
   },
   "outputs": [
    {
     "name": "stdout",
     "output_type": "stream",
     "text": [
      "True Positive : 131\n",
      "True Negative : 41\n",
      "False Positive : 1\n",
      "False Negative : 0\n",
      "\n",
      "True Positive Rate : 1.0\n",
      "True Negative Rate : 0.9761904761904762\n",
      "False Positive Rate : 0.023809523809523808\n",
      "False Negative Rate : 0.0\n",
      "\n",
      "Positive Predictive Value : 0.9924242424242424\n",
      "Negative predictive value : 1.0\n",
      "Confusion matrix:\n",
      "[[ 41   1]\n",
      " [  0 131]]\n"
     ]
    },
    {
     "data": {
      "image/png": "[encoded data removed]",
      "text/plain": [
       "<Figure size 640x480 with 2 Axes>"
      ]
     },
     "metadata": {},
     "output_type": "display_data"
    }
   ],
   "source": [
    "TN = cm2[0][0]\n",
    "FN = cm2[1][0]\n",
    "TP = cm2[1][1]\n",
    "FP = cm2[0][1]\n",
    "print(\"True Positive :\",TP)\n",
    "print(\"True Negative :\",TN)\n",
    "print(\"False Positive :\",FP)\n",
    "print(\"False Negative :\",FN)\n",
    "print(\"\")\n",
    "TPR = TP/(TP+FN)\n",
    "TNR = TN/(TN+FP)\n",
    "FPR = FP/(FP+TN)\n",
    "FNR = FN/(TP+FN)\n",
    "print(\"True Positive Rate :\",TPR)\n",
    "print(\"True Negative Rate :\",TNR)\n",
    "print(\"False Positive Rate :\",FPR)\n",
    "print(\"False Negative Rate :\",FNR)\n",
    "print(\"\")\n",
    "PPV = TP/(TP+FP)\n",
    "NPV = TN/(TN+FN)\n",
    "print(\"Positive Predictive Value :\",PPV)\n",
    "print(\"Negative predictive value :\",NPV)\n",
    "\n",
    "\n",
    "cm2=confusion_matrix(y_test, predictions)\n",
    "print('Confusion matrix:')\n",
    "print(cm2)\n",
    "\n",
    "\n",
    "\n",
    "sns.heatmap(cm2/np.sum(cm2), annot=True, cmap = 'Blues', annot_kws={\"size\": 16},fmt='.2%')\n",
    "plt.show()"
   ]
  },
  {
   "cell_type": "code",
   "execution_count": 28,
   "metadata": {
    "id": "WnMtCIiImoHc"
   },
   "outputs": [],
   "source": [
    "pickle.dump(classifier,open('Liver-MLP.pkl', 'wb'))"
   ]
  }
 ],
 "metadata": {
  "colab": {
   "provenance": []
  },
  "kernelspec": {
   "display_name": "Python 3 (ipykernel)",
   "language": "python",
   "name": "python3"
  },
  "language_info": {
   "codemirror_mode": {
    "name": "ipython",
    "version": 3
   },
   "file_extension": ".py",
   "mimetype": "text/x-python",
   "name": "python",
   "nbconvert_exporter": "python",
   "pygments_lexer": "ipython3",
   "version": "3.11.7"
  },
  "vscode": {
   "interpreter": {
    "hash": "e2076ff54751707b9c94963792d719a797a7861086d57b7d458fe9594c9a081d"
   }
  }
 },
 "nbformat": 4,
 "nbformat_minor": 4
}
