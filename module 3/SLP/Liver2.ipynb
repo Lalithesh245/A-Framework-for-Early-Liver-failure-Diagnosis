{
 "cells": [
  {
   "cell_type": "code",
   "execution_count": 31,
   "metadata": {
    "id": "WwZYsLfDocKz"
   },
   "outputs": [],
   "source": [
    "import pandas as pd\n",
    "from sklearn.model_selection import train_test_split\n",
    "from sklearn.metrics import confusion_matrix, classification_report, accuracy_score, recall_score, f1_score, precision_score\n",
    "from keras.models import Sequential\n",
    "from keras.layers import Dense\n",
    "import pickle\n",
    "import warnings\n",
    "import seaborn as sns\n",
    "import numpy as np\n",
    "import matplotlib.pyplot as plt\n",
    "warnings.filterwarnings(\"ignore\")"
   ]
  },
  {
   "cell_type": "code",
   "execution_count": 32,
   "metadata": {
    "id": "2MdRHpYUocK0"
   },
   "outputs": [],
   "source": [
    "df = pd.read_csv(\"C:\\\\Users\\\\User\\\\Desktop\\\\fproject\\\\dataset\\\\liver_patient.csv\")"
   ]
  },
  {
   "cell_type": "code",
   "execution_count": 33,
   "metadata": {
    "colab": {
     "base_uri": "https://localhost:8080/",
     "height": 270
    },
    "id": "HQADWVMK05L1",
    "outputId": "699f55d3-adad-4a6e-b22e-820a728f3694"
   },
   "outputs": [
    {
     "data": {
      "text/html": [
       "<div>\n",
       "<style scoped>\n",
       "    .dataframe tbody tr th:only-of-type {\n",
       "        vertical-align: middle;\n",
       "    }\n",
       "\n",
       "    .dataframe tbody tr th {\n",
       "        vertical-align: top;\n",
       "    }\n",
       "\n",
       "    .dataframe thead th {\n",
       "        text-align: right;\n",
       "    }\n",
       "</style>\n",
       "<table border=\"1\" class=\"dataframe\">\n",
       "  <thead>\n",
       "    <tr style=\"text-align: right;\">\n",
       "      <th></th>\n",
       "      <th>Age</th>\n",
       "      <th>Gender</th>\n",
       "      <th>Total_Bilirubin</th>\n",
       "      <th>Direct_Bilirubin</th>\n",
       "      <th>Alkaline_Phosphotase</th>\n",
       "      <th>Alamine_Aminotransferase</th>\n",
       "      <th>Aspartate_Aminotransferase</th>\n",
       "      <th>Total_Protiens</th>\n",
       "      <th>Albumin</th>\n",
       "      <th>Albumin_and_Globulin_Ratio</th>\n",
       "      <th>Dataset</th>\n",
       "    </tr>\n",
       "  </thead>\n",
       "  <tbody>\n",
       "    <tr>\n",
       "      <th>0</th>\n",
       "      <td>65</td>\n",
       "      <td>Female</td>\n",
       "      <td>0.7</td>\n",
       "      <td>0.1</td>\n",
       "      <td>187</td>\n",
       "      <td>16</td>\n",
       "      <td>18</td>\n",
       "      <td>6.8</td>\n",
       "      <td>3.3</td>\n",
       "      <td>0.90</td>\n",
       "      <td>1</td>\n",
       "    </tr>\n",
       "    <tr>\n",
       "      <th>1</th>\n",
       "      <td>62</td>\n",
       "      <td>Male</td>\n",
       "      <td>10.9</td>\n",
       "      <td>5.5</td>\n",
       "      <td>699</td>\n",
       "      <td>64</td>\n",
       "      <td>100</td>\n",
       "      <td>7.5</td>\n",
       "      <td>3.2</td>\n",
       "      <td>0.74</td>\n",
       "      <td>1</td>\n",
       "    </tr>\n",
       "    <tr>\n",
       "      <th>2</th>\n",
       "      <td>62</td>\n",
       "      <td>Male</td>\n",
       "      <td>7.3</td>\n",
       "      <td>4.1</td>\n",
       "      <td>490</td>\n",
       "      <td>60</td>\n",
       "      <td>68</td>\n",
       "      <td>7.0</td>\n",
       "      <td>3.3</td>\n",
       "      <td>0.89</td>\n",
       "      <td>1</td>\n",
       "    </tr>\n",
       "    <tr>\n",
       "      <th>3</th>\n",
       "      <td>58</td>\n",
       "      <td>Male</td>\n",
       "      <td>1.0</td>\n",
       "      <td>0.4</td>\n",
       "      <td>182</td>\n",
       "      <td>14</td>\n",
       "      <td>20</td>\n",
       "      <td>6.8</td>\n",
       "      <td>3.4</td>\n",
       "      <td>1.00</td>\n",
       "      <td>1</td>\n",
       "    </tr>\n",
       "    <tr>\n",
       "      <th>4</th>\n",
       "      <td>72</td>\n",
       "      <td>Male</td>\n",
       "      <td>3.9</td>\n",
       "      <td>2.0</td>\n",
       "      <td>195</td>\n",
       "      <td>27</td>\n",
       "      <td>59</td>\n",
       "      <td>7.3</td>\n",
       "      <td>2.4</td>\n",
       "      <td>0.40</td>\n",
       "      <td>1</td>\n",
       "    </tr>\n",
       "  </tbody>\n",
       "</table>\n",
       "</div>"
      ],
      "text/plain": [
       "   Age  Gender  Total_Bilirubin  Direct_Bilirubin  Alkaline_Phosphotase  \\\n",
       "0   65  Female              0.7               0.1                   187   \n",
       "1   62    Male             10.9               5.5                   699   \n",
       "2   62    Male              7.3               4.1                   490   \n",
       "3   58    Male              1.0               0.4                   182   \n",
       "4   72    Male              3.9               2.0                   195   \n",
       "\n",
       "   Alamine_Aminotransferase  Aspartate_Aminotransferase  Total_Protiens  \\\n",
       "0                        16                          18             6.8   \n",
       "1                        64                         100             7.5   \n",
       "2                        60                          68             7.0   \n",
       "3                        14                          20             6.8   \n",
       "4                        27                          59             7.3   \n",
       "\n",
       "   Albumin  Albumin_and_Globulin_Ratio  Dataset  \n",
       "0      3.3                        0.90        1  \n",
       "1      3.2                        0.74        1  \n",
       "2      3.3                        0.89        1  \n",
       "3      3.4                        1.00        1  \n",
       "4      2.4                        0.40        1  "
      ]
     },
     "execution_count": 33,
     "metadata": {},
     "output_type": "execute_result"
    }
   ],
   "source": [
    "df.head()"
   ]
  },
  {
   "cell_type": "code",
   "execution_count": 34,
   "metadata": {
    "colab": {
     "base_uri": "https://localhost:8080/"
    },
    "id": "gWH2PPDj1BEh",
    "outputId": "ed3cb15a-0409-411c-efcd-82091b073cb9"
   },
   "outputs": [
    {
     "data": {
      "text/plain": [
       "587"
      ]
     },
     "execution_count": 34,
     "metadata": {},
     "output_type": "execute_result"
    }
   ],
   "source": [
    "df.duplicated().sum()"
   ]
  },
  {
   "cell_type": "code",
   "execution_count": 35,
   "metadata": {
    "id": "bP8cCWtk1H90"
   },
   "outputs": [],
   "source": [
    "df = df.drop_duplicates()"
   ]
  },
  {
   "cell_type": "code",
   "execution_count": 36,
   "metadata": {
    "colab": {
     "base_uri": "https://localhost:8080/"
    },
    "id": "MLIhBENth7MQ",
    "outputId": "9811c4f3-dc5d-4b4e-f3fe-af17dfebe720"
   },
   "outputs": [
    {
     "data": {
      "text/plain": [
       "0"
      ]
     },
     "execution_count": 36,
     "metadata": {},
     "output_type": "execute_result"
    }
   ],
   "source": [
    "df.duplicated().sum()"
   ]
  },
  {
   "cell_type": "code",
   "execution_count": 37,
   "metadata": {
    "colab": {
     "base_uri": "https://localhost:8080/"
    },
    "id": "S_BEfO6y1QGK",
    "outputId": "57f5822b-beb0-43ec-8bb5-dd0a1642fee7"
   },
   "outputs": [
    {
     "data": {
      "text/plain": [
       "Age                           0\n",
       "Gender                        0\n",
       "Total_Bilirubin               0\n",
       "Direct_Bilirubin              0\n",
       "Alkaline_Phosphotase          0\n",
       "Alamine_Aminotransferase      0\n",
       "Aspartate_Aminotransferase    0\n",
       "Total_Protiens                0\n",
       "Albumin                       0\n",
       "Albumin_and_Globulin_Ratio    4\n",
       "Dataset                       0\n",
       "dtype: int64"
      ]
     },
     "execution_count": 37,
     "metadata": {},
     "output_type": "execute_result"
    }
   ],
   "source": [
    "df.isnull().sum()"
   ]
  },
  {
   "cell_type": "code",
   "execution_count": 38,
   "metadata": {
    "id": "IuAVJfT01g2l"
   },
   "outputs": [],
   "source": [
    "df = df.dropna()"
   ]
  },
  {
   "cell_type": "code",
   "execution_count": 39,
   "metadata": {
    "colab": {
     "base_uri": "https://localhost:8080/"
    },
    "id": "Y1PK6CzTiAa-",
    "outputId": "8d95c65e-7beb-4c5d-9a28-c3337c2e945f"
   },
   "outputs": [
    {
     "data": {
      "text/plain": [
       "Age                           0\n",
       "Gender                        0\n",
       "Total_Bilirubin               0\n",
       "Direct_Bilirubin              0\n",
       "Alkaline_Phosphotase          0\n",
       "Alamine_Aminotransferase      0\n",
       "Aspartate_Aminotransferase    0\n",
       "Total_Protiens                0\n",
       "Albumin                       0\n",
       "Albumin_and_Globulin_Ratio    0\n",
       "Dataset                       0\n",
       "dtype: int64"
      ]
     },
     "execution_count": 39,
     "metadata": {},
     "output_type": "execute_result"
    }
   ],
   "source": [
    "df.isnull().sum()"
   ]
  },
  {
   "cell_type": "code",
   "execution_count": 40,
   "metadata": {
    "id": "YR2Qc5h61tyn"
   },
   "outputs": [],
   "source": [
    "df = df.rename({'Dataset':'Result'},axis=1)"
   ]
  },
  {
   "cell_type": "code",
   "execution_count": 41,
   "metadata": {
    "colab": {
     "base_uri": "https://localhost:8080/"
    },
    "id": "qqt-HRjd2605",
    "outputId": "3ec10dc8-8d4a-413b-d34b-92a3e89a7aed"
   },
   "outputs": [
    {
     "data": {
      "text/plain": [
       "Index(['Age', 'Gender', 'Total_Bilirubin', 'Direct_Bilirubin',\n",
       "       'Alkaline_Phosphotase', 'Alamine_Aminotransferase',\n",
       "       'Aspartate_Aminotransferase', 'Total_Protiens', 'Albumin',\n",
       "       'Albumin_and_Globulin_Ratio', 'Result'],\n",
       "      dtype='object')"
      ]
     },
     "execution_count": 41,
     "metadata": {},
     "output_type": "execute_result"
    }
   ],
   "source": [
    "df.columns"
   ]
  },
  {
   "cell_type": "code",
   "execution_count": 42,
   "metadata": {
    "id": "29GMi12K4fTs"
   },
   "outputs": [],
   "source": [
    "from sklearn.preprocessing import LabelEncoder\n",
    "var_mod = ['Gender']\n",
    "le = LabelEncoder()\n",
    "for i in var_mod:\n",
    "  df[i] = le.fit_transform(df[i]).astype(int)"
   ]
  },
  {
   "cell_type": "code",
   "execution_count": 43,
   "metadata": {
    "colab": {
     "base_uri": "https://localhost:8080/",
     "height": 458
    },
    "id": "Kbj_8L2M5M5s",
    "outputId": "b1d1b7dd-e04e-4d8b-fec1-43ab3ca18c65"
   },
   "outputs": [
    {
     "data": {
      "text/html": [
       "<div>\n",
       "<style scoped>\n",
       "    .dataframe tbody tr th:only-of-type {\n",
       "        vertical-align: middle;\n",
       "    }\n",
       "\n",
       "    .dataframe tbody tr th {\n",
       "        vertical-align: top;\n",
       "    }\n",
       "\n",
       "    .dataframe thead th {\n",
       "        text-align: right;\n",
       "    }\n",
       "</style>\n",
       "<table border=\"1\" class=\"dataframe\">\n",
       "  <thead>\n",
       "    <tr style=\"text-align: right;\">\n",
       "      <th></th>\n",
       "      <th>Age</th>\n",
       "      <th>Gender</th>\n",
       "      <th>Total_Bilirubin</th>\n",
       "      <th>Direct_Bilirubin</th>\n",
       "      <th>Alkaline_Phosphotase</th>\n",
       "      <th>Alamine_Aminotransferase</th>\n",
       "      <th>Aspartate_Aminotransferase</th>\n",
       "      <th>Total_Protiens</th>\n",
       "      <th>Albumin</th>\n",
       "      <th>Albumin_and_Globulin_Ratio</th>\n",
       "      <th>Result</th>\n",
       "    </tr>\n",
       "  </thead>\n",
       "  <tbody>\n",
       "    <tr>\n",
       "      <th>Age</th>\n",
       "      <td>1.000000</td>\n",
       "      <td>0.055803</td>\n",
       "      <td>0.004742</td>\n",
       "      <td>-0.000544</td>\n",
       "      <td>0.074911</td>\n",
       "      <td>-0.087815</td>\n",
       "      <td>-0.021210</td>\n",
       "      <td>-0.206173</td>\n",
       "      <td>-0.272324</td>\n",
       "      <td>-0.213303</td>\n",
       "      <td>-0.118904</td>\n",
       "    </tr>\n",
       "    <tr>\n",
       "      <th>Gender</th>\n",
       "      <td>0.055803</td>\n",
       "      <td>1.000000</td>\n",
       "      <td>0.088014</td>\n",
       "      <td>0.100194</td>\n",
       "      <td>-0.023596</td>\n",
       "      <td>0.082962</td>\n",
       "      <td>0.080687</td>\n",
       "      <td>-0.093133</td>\n",
       "      <td>-0.092707</td>\n",
       "      <td>-0.002848</td>\n",
       "      <td>-0.073852</td>\n",
       "    </tr>\n",
       "    <tr>\n",
       "      <th>Total_Bilirubin</th>\n",
       "      <td>0.004742</td>\n",
       "      <td>0.088014</td>\n",
       "      <td>1.000000</td>\n",
       "      <td>0.874185</td>\n",
       "      <td>0.206120</td>\n",
       "      <td>0.217430</td>\n",
       "      <td>0.239014</td>\n",
       "      <td>-0.004935</td>\n",
       "      <td>-0.221246</td>\n",
       "      <td>-0.207496</td>\n",
       "      <td>-0.224693</td>\n",
       "    </tr>\n",
       "    <tr>\n",
       "      <th>Direct_Bilirubin</th>\n",
       "      <td>-0.000544</td>\n",
       "      <td>0.100194</td>\n",
       "      <td>0.874185</td>\n",
       "      <td>1.000000</td>\n",
       "      <td>0.234568</td>\n",
       "      <td>0.237494</td>\n",
       "      <td>0.259078</td>\n",
       "      <td>0.003976</td>\n",
       "      <td>-0.226912</td>\n",
       "      <td>-0.200823</td>\n",
       "      <td>-0.251431</td>\n",
       "    </tr>\n",
       "    <tr>\n",
       "      <th>Alkaline_Phosphotase</th>\n",
       "      <td>0.074911</td>\n",
       "      <td>-0.023596</td>\n",
       "      <td>0.206120</td>\n",
       "      <td>0.234568</td>\n",
       "      <td>1.000000</td>\n",
       "      <td>0.126782</td>\n",
       "      <td>0.167270</td>\n",
       "      <td>-0.025214</td>\n",
       "      <td>-0.162929</td>\n",
       "      <td>-0.234255</td>\n",
       "      <td>-0.187274</td>\n",
       "    </tr>\n",
       "    <tr>\n",
       "      <th>Alamine_Aminotransferase</th>\n",
       "      <td>-0.087815</td>\n",
       "      <td>0.082962</td>\n",
       "      <td>0.217430</td>\n",
       "      <td>0.237494</td>\n",
       "      <td>0.126782</td>\n",
       "      <td>1.000000</td>\n",
       "      <td>0.791894</td>\n",
       "      <td>-0.031740</td>\n",
       "      <td>-0.025074</td>\n",
       "      <td>-0.006168</td>\n",
       "      <td>-0.161732</td>\n",
       "    </tr>\n",
       "    <tr>\n",
       "      <th>Aspartate_Aminotransferase</th>\n",
       "      <td>-0.021210</td>\n",
       "      <td>0.080687</td>\n",
       "      <td>0.239014</td>\n",
       "      <td>0.259078</td>\n",
       "      <td>0.167270</td>\n",
       "      <td>0.791894</td>\n",
       "      <td>1.000000</td>\n",
       "      <td>-0.019059</td>\n",
       "      <td>-0.082746</td>\n",
       "      <td>-0.071724</td>\n",
       "      <td>-0.151329</td>\n",
       "    </tr>\n",
       "    <tr>\n",
       "      <th>Total_Protiens</th>\n",
       "      <td>-0.206173</td>\n",
       "      <td>-0.093133</td>\n",
       "      <td>-0.004935</td>\n",
       "      <td>0.003976</td>\n",
       "      <td>-0.025214</td>\n",
       "      <td>-0.031740</td>\n",
       "      <td>-0.019059</td>\n",
       "      <td>1.000000</td>\n",
       "      <td>0.785160</td>\n",
       "      <td>0.238659</td>\n",
       "      <td>0.023849</td>\n",
       "    </tr>\n",
       "    <tr>\n",
       "      <th>Albumin</th>\n",
       "      <td>-0.272324</td>\n",
       "      <td>-0.092707</td>\n",
       "      <td>-0.221246</td>\n",
       "      <td>-0.226912</td>\n",
       "      <td>-0.162929</td>\n",
       "      <td>-0.025074</td>\n",
       "      <td>-0.082746</td>\n",
       "      <td>0.785160</td>\n",
       "      <td>1.000000</td>\n",
       "      <td>0.688588</td>\n",
       "      <td>0.157171</td>\n",
       "    </tr>\n",
       "    <tr>\n",
       "      <th>Albumin_and_Globulin_Ratio</th>\n",
       "      <td>-0.213303</td>\n",
       "      <td>-0.002848</td>\n",
       "      <td>-0.207496</td>\n",
       "      <td>-0.200823</td>\n",
       "      <td>-0.234255</td>\n",
       "      <td>-0.006168</td>\n",
       "      <td>-0.071724</td>\n",
       "      <td>0.238659</td>\n",
       "      <td>0.688588</td>\n",
       "      <td>1.000000</td>\n",
       "      <td>0.166607</td>\n",
       "    </tr>\n",
       "    <tr>\n",
       "      <th>Result</th>\n",
       "      <td>-0.118904</td>\n",
       "      <td>-0.073852</td>\n",
       "      <td>-0.224693</td>\n",
       "      <td>-0.251431</td>\n",
       "      <td>-0.187274</td>\n",
       "      <td>-0.161732</td>\n",
       "      <td>-0.151329</td>\n",
       "      <td>0.023849</td>\n",
       "      <td>0.157171</td>\n",
       "      <td>0.166607</td>\n",
       "      <td>1.000000</td>\n",
       "    </tr>\n",
       "  </tbody>\n",
       "</table>\n",
       "</div>"
      ],
      "text/plain": [
       "                                 Age    Gender  Total_Bilirubin  \\\n",
       "Age                         1.000000  0.055803         0.004742   \n",
       "Gender                      0.055803  1.000000         0.088014   \n",
       "Total_Bilirubin             0.004742  0.088014         1.000000   \n",
       "Direct_Bilirubin           -0.000544  0.100194         0.874185   \n",
       "Alkaline_Phosphotase        0.074911 -0.023596         0.206120   \n",
       "Alamine_Aminotransferase   -0.087815  0.082962         0.217430   \n",
       "Aspartate_Aminotransferase -0.021210  0.080687         0.239014   \n",
       "Total_Protiens             -0.206173 -0.093133        -0.004935   \n",
       "Albumin                    -0.272324 -0.092707        -0.221246   \n",
       "Albumin_and_Globulin_Ratio -0.213303 -0.002848        -0.207496   \n",
       "Result                     -0.118904 -0.073852        -0.224693   \n",
       "\n",
       "                            Direct_Bilirubin  Alkaline_Phosphotase  \\\n",
       "Age                                -0.000544              0.074911   \n",
       "Gender                              0.100194             -0.023596   \n",
       "Total_Bilirubin                     0.874185              0.206120   \n",
       "Direct_Bilirubin                    1.000000              0.234568   \n",
       "Alkaline_Phosphotase                0.234568              1.000000   \n",
       "Alamine_Aminotransferase            0.237494              0.126782   \n",
       "Aspartate_Aminotransferase          0.259078              0.167270   \n",
       "Total_Protiens                      0.003976             -0.025214   \n",
       "Albumin                            -0.226912             -0.162929   \n",
       "Albumin_and_Globulin_Ratio         -0.200823             -0.234255   \n",
       "Result                             -0.251431             -0.187274   \n",
       "\n",
       "                            Alamine_Aminotransferase  \\\n",
       "Age                                        -0.087815   \n",
       "Gender                                      0.082962   \n",
       "Total_Bilirubin                             0.217430   \n",
       "Direct_Bilirubin                            0.237494   \n",
       "Alkaline_Phosphotase                        0.126782   \n",
       "Alamine_Aminotransferase                    1.000000   \n",
       "Aspartate_Aminotransferase                  0.791894   \n",
       "Total_Protiens                             -0.031740   \n",
       "Albumin                                    -0.025074   \n",
       "Albumin_and_Globulin_Ratio                 -0.006168   \n",
       "Result                                     -0.161732   \n",
       "\n",
       "                            Aspartate_Aminotransferase  Total_Protiens  \\\n",
       "Age                                          -0.021210       -0.206173   \n",
       "Gender                                        0.080687       -0.093133   \n",
       "Total_Bilirubin                               0.239014       -0.004935   \n",
       "Direct_Bilirubin                              0.259078        0.003976   \n",
       "Alkaline_Phosphotase                          0.167270       -0.025214   \n",
       "Alamine_Aminotransferase                      0.791894       -0.031740   \n",
       "Aspartate_Aminotransferase                    1.000000       -0.019059   \n",
       "Total_Protiens                               -0.019059        1.000000   \n",
       "Albumin                                      -0.082746        0.785160   \n",
       "Albumin_and_Globulin_Ratio                   -0.071724        0.238659   \n",
       "Result                                       -0.151329        0.023849   \n",
       "\n",
       "                             Albumin  Albumin_and_Globulin_Ratio    Result  \n",
       "Age                        -0.272324                   -0.213303 -0.118904  \n",
       "Gender                     -0.092707                   -0.002848 -0.073852  \n",
       "Total_Bilirubin            -0.221246                   -0.207496 -0.224693  \n",
       "Direct_Bilirubin           -0.226912                   -0.200823 -0.251431  \n",
       "Alkaline_Phosphotase       -0.162929                   -0.234255 -0.187274  \n",
       "Alamine_Aminotransferase   -0.025074                   -0.006168 -0.161732  \n",
       "Aspartate_Aminotransferase -0.082746                   -0.071724 -0.151329  \n",
       "Total_Protiens              0.785160                    0.238659  0.023849  \n",
       "Albumin                     1.000000                    0.688588  0.157171  \n",
       "Albumin_and_Globulin_Ratio  0.688588                    1.000000  0.166607  \n",
       "Result                      0.157171                    0.166607  1.000000  "
      ]
     },
     "execution_count": 43,
     "metadata": {},
     "output_type": "execute_result"
    }
   ],
   "source": [
    "df.corr()"
   ]
  },
  {
   "cell_type": "code",
   "execution_count": 44,
   "metadata": {
    "id": "yId11gknocK3"
   },
   "outputs": [],
   "source": [
    "df_sex = pd.get_dummies(df['Gender'])\n",
    "df_new = pd.concat([df, df_sex], axis=1)\n",
    "Droop_gender = df_new.drop(labels=['Gender' ],axis=1 )\n",
    "Droop_gender.columns = ['Age', 'Total_Bilirubin', 'Direct_Bilirubin','Alkaline_Phosphotase','Alamine_Aminotransferase','Aspartate_Aminotransferase','Total_Protiens','Albumin','Albumin_and_Globulin_Ratio','Male','Fmale','Result']\n",
    "\n",
    "X = Droop_gender.drop('Result',axis=1)\n",
    "y = Droop_gender['Result']\n",
    "\n",
    "# split data\n",
    "X_train, X_test, y_train, y_test = train_test_split(X, y, test_size = 0.3, random_state = 1,stratify = y)\n"
   ]
  },
  {
   "cell_type": "code",
   "execution_count": 45,
   "metadata": {
    "id": "ATXKl_E-ocK3"
   },
   "outputs": [],
   "source": [
    "from sklearn.preprocessing import StandardScaler\n",
    "sc = StandardScaler()\n",
    "X_train = sc.fit_transform(X_train)\n",
    "X_test = sc.transform(X_test)\n"
   ]
  },
  {
   "cell_type": "code",
   "execution_count": 46,
   "metadata": {
    "colab": {
     "base_uri": "https://localhost:8080/",
     "height": 126
    },
    "id": "Yfo2INzoocK3",
    "outputId": "342a7f09-2125-459a-b094-48c0221fd01b"
   },
   "outputs": [],
   "source": [
    "# Build the SLP model\n",
    "model = Sequential()\n",
    "model.add(Dense(1, input_dim= 11, activation='linear'))\n",
    "model.compile(loss='mean_squared_error', optimizer='adam')\n",
    "\n",
    "# Train the SLP model\n",
    "classifier = model.fit(X_train, y_train, epochs=100, batch_size=32, verbose=0)"
   ]
  },
  {
   "cell_type": "code",
   "execution_count": 47,
   "metadata": {
    "id": "V7SxACx9ocK4"
   },
   "outputs": [
    {
     "name": "stdout",
     "output_type": "stream",
     "text": [
      "\u001b[1m6/6\u001b[0m \u001b[32m━━━━━━━━━━━━━━━━━━━━\u001b[0m\u001b[37m\u001b[0m \u001b[1m0s\u001b[0m 4ms/step \n"
     ]
    }
   ],
   "source": [
    "y_pred = model.predict(X_test)"
   ]
  },
  {
   "cell_type": "code",
   "execution_count": 48,
   "metadata": {
    "colab": {
     "base_uri": "https://localhost:8080/"
    },
    "id": "gxBXGuXESxGH",
    "outputId": "f290785d-4ac8-496c-ea00-edfc9191e43b"
   },
   "outputs": [
    {
     "data": {
      "text/plain": [
       "array([[ 6.76515698e-01],\n",
       "       [ 9.88819003e-01],\n",
       "       [ 8.80417466e-01],\n",
       "       [ 1.08069050e+00],\n",
       "       [-1.05369568e-01],\n",
       "       [-7.41092563e-02],\n",
       "       [ 9.15109158e-01],\n",
       "       [-3.71088982e-02],\n",
       "       [ 8.70151758e-01],\n",
       "       [ 1.21455789e-02],\n",
       "       [ 7.57785082e-01],\n",
       "       [ 1.06699634e+00],\n",
       "       [ 1.01117778e+00],\n",
       "       [ 1.01168132e+00],\n",
       "       [ 8.89903128e-01],\n",
       "       [ 1.78024888e+00],\n",
       "       [-3.16060126e-01],\n",
       "       [-1.12401819e+00],\n",
       "       [-2.48391271e-01],\n",
       "       [-1.07641876e-01],\n",
       "       [ 1.03131032e+00],\n",
       "       [ 1.01533806e+00],\n",
       "       [ 9.85199928e-01],\n",
       "       [ 9.85040784e-01],\n",
       "       [-5.49240708e-02],\n",
       "       [ 1.03545046e+00],\n",
       "       [-5.08347750e-02],\n",
       "       [ 9.23060656e-01],\n",
       "       [ 9.79717910e-01],\n",
       "       [ 1.30546188e+00],\n",
       "       [ 9.44474459e-01],\n",
       "       [-1.33633614e-04],\n",
       "       [-1.78890228e-02],\n",
       "       [-5.63755631e-02],\n",
       "       [ 9.83584881e-01],\n",
       "       [ 9.10880685e-01],\n",
       "       [ 1.02299178e+00],\n",
       "       [ 1.00760722e+00],\n",
       "       [-1.69542491e-01],\n",
       "       [ 1.04402995e+00],\n",
       "       [-1.58682466e-02],\n",
       "       [ 1.10079110e+00],\n",
       "       [ 1.04287720e+00],\n",
       "       [ 1.01704288e+00],\n",
       "       [-1.33541727e+00],\n",
       "       [ 1.30968380e+00],\n",
       "       [ 2.76817083e-02],\n",
       "       [ 1.00187814e+00],\n",
       "       [ 3.75752449e-02],\n",
       "       [ 1.02373767e+00],\n",
       "       [ 9.97342646e-01],\n",
       "       [ 9.51292336e-01],\n",
       "       [ 9.22691345e-01],\n",
       "       [ 9.90375102e-01],\n",
       "       [ 9.24807191e-01],\n",
       "       [ 7.20026970e-01],\n",
       "       [ 9.54313040e-01],\n",
       "       [ 9.80739832e-01],\n",
       "       [ 9.57953393e-01],\n",
       "       [ 8.65363777e-01],\n",
       "       [ 9.62893963e-01],\n",
       "       [ 9.43420649e-01],\n",
       "       [-8.52782130e-02],\n",
       "       [ 9.97601926e-01],\n",
       "       [-7.73643851e-02],\n",
       "       [-8.63430500e-02],\n",
       "       [-3.75956297e-03],\n",
       "       [ 9.42054629e-01],\n",
       "       [ 1.00759161e+00],\n",
       "       [ 9.38219190e-01],\n",
       "       [ 8.84131193e-01],\n",
       "       [-2.06810176e-01],\n",
       "       [ 1.01179683e+00],\n",
       "       [ 9.54019368e-01],\n",
       "       [ 9.81762946e-01],\n",
       "       [ 9.96148109e-01],\n",
       "       [ 9.48256731e-01],\n",
       "       [ 1.92332482e+00],\n",
       "       [ 8.71565700e-01],\n",
       "       [ 8.79392385e-01],\n",
       "       [ 9.13855672e-01],\n",
       "       [ 9.53914404e-01],\n",
       "       [ 8.42474937e-01],\n",
       "       [ 1.73360705e-02],\n",
       "       [-4.17313576e-02],\n",
       "       [ 9.87945676e-01],\n",
       "       [ 7.82510996e-01],\n",
       "       [ 1.06262124e+00],\n",
       "       [ 9.35701370e-01],\n",
       "       [-8.42255354e-03],\n",
       "       [ 1.01776481e+00],\n",
       "       [ 1.20173085e+00],\n",
       "       [ 9.89356160e-01],\n",
       "       [ 1.01204944e+00],\n",
       "       [-1.86123610e-01],\n",
       "       [ 9.18311954e-01],\n",
       "       [ 1.03435111e+00],\n",
       "       [ 7.76794493e-01],\n",
       "       [ 1.02316952e+00],\n",
       "       [ 9.74488676e-01],\n",
       "       [ 8.83584619e-01],\n",
       "       [ 1.01890779e+00],\n",
       "       [ 8.73046398e-01],\n",
       "       [-1.86962664e-01],\n",
       "       [ 9.91058707e-01],\n",
       "       [ 9.77811456e-01],\n",
       "       [ 8.59965444e-01],\n",
       "       [ 1.58222842e+00],\n",
       "       [ 9.69749093e-01],\n",
       "       [ 1.05338311e+00],\n",
       "       [ 9.26825523e-01],\n",
       "       [ 1.04793394e+00],\n",
       "       [ 9.85023975e-01],\n",
       "       [ 9.87134755e-01],\n",
       "       [ 9.82606411e-01],\n",
       "       [ 7.57966697e-01],\n",
       "       [ 2.02971697e-02],\n",
       "       [ 9.47491407e-01],\n",
       "       [ 9.41614211e-01],\n",
       "       [ 1.06329811e+00],\n",
       "       [ 1.00618529e+00],\n",
       "       [ 2.59980559e-02],\n",
       "       [ 1.12037826e+00],\n",
       "       [ 9.38915372e-01],\n",
       "       [ 8.29154134e-01],\n",
       "       [ 9.16113079e-01],\n",
       "       [ 8.96195173e-01],\n",
       "       [ 8.65690827e-01],\n",
       "       [-2.90441453e-01],\n",
       "       [ 9.39240694e-01],\n",
       "       [ 9.86182034e-01],\n",
       "       [ 1.15235972e+00],\n",
       "       [-1.29960716e-01],\n",
       "       [ 9.65312958e-01],\n",
       "       [ 9.36079979e-01],\n",
       "       [ 9.41480994e-01],\n",
       "       [ 8.92666638e-01],\n",
       "       [-9.89035964e-02],\n",
       "       [ 9.33744550e-01],\n",
       "       [ 1.03056920e+00],\n",
       "       [-9.09150243e-02],\n",
       "       [ 8.47678304e-01],\n",
       "       [ 9.63453531e-01],\n",
       "       [-1.02206278e+00],\n",
       "       [ 9.13590848e-01],\n",
       "       [ 1.14108729e+00],\n",
       "       [-3.75692844e-02],\n",
       "       [ 1.08211362e+00],\n",
       "       [ 9.23338056e-01],\n",
       "       [ 9.25611973e-01],\n",
       "       [ 1.00306129e+00],\n",
       "       [-1.59325600e-02],\n",
       "       [ 8.48453462e-01],\n",
       "       [-1.58367276e-01],\n",
       "       [ 1.00614893e+00],\n",
       "       [ 4.54336596e+00],\n",
       "       [ 2.59177089e-02],\n",
       "       [ 9.46849823e-01],\n",
       "       [ 9.38019991e-01],\n",
       "       [ 9.50457692e-01],\n",
       "       [ 1.10830712e+00],\n",
       "       [ 1.02048683e+00],\n",
       "       [ 9.21903968e-01],\n",
       "       [ 9.38236833e-01],\n",
       "       [ 2.19877303e-01],\n",
       "       [ 1.14678299e+00],\n",
       "       [-5.02566099e-02],\n",
       "       [-9.52213407e-02],\n",
       "       [ 8.12070370e-01],\n",
       "       [ 1.60799026e-02],\n",
       "       [ 9.77541625e-01],\n",
       "       [-4.00807261e-02],\n",
       "       [-8.36369991e-02]], dtype=float32)"
      ]
     },
     "execution_count": 48,
     "metadata": {},
     "output_type": "execute_result"
    }
   ],
   "source": [
    "y_pred"
   ]
  },
  {
   "cell_type": "code",
   "execution_count": 49,
   "metadata": {},
   "outputs": [],
   "source": [
    "y_pred = np.round(y_pred)"
   ]
  },
  {
   "cell_type": "code",
   "execution_count": 50,
   "metadata": {},
   "outputs": [
    {
     "data": {
      "text/plain": [
       "array([[ 1.],\n",
       "       [ 1.],\n",
       "       [ 1.],\n",
       "       [ 1.],\n",
       "       [-0.],\n",
       "       [-0.],\n",
       "       [ 1.],\n",
       "       [-0.],\n",
       "       [ 1.],\n",
       "       [ 0.],\n",
       "       [ 1.],\n",
       "       [ 1.],\n",
       "       [ 1.],\n",
       "       [ 1.],\n",
       "       [ 1.],\n",
       "       [ 2.],\n",
       "       [-0.],\n",
       "       [-1.],\n",
       "       [-0.],\n",
       "       [-0.],\n",
       "       [ 1.],\n",
       "       [ 1.],\n",
       "       [ 1.],\n",
       "       [ 1.],\n",
       "       [-0.],\n",
       "       [ 1.],\n",
       "       [-0.],\n",
       "       [ 1.],\n",
       "       [ 1.],\n",
       "       [ 1.],\n",
       "       [ 1.],\n",
       "       [-0.],\n",
       "       [-0.],\n",
       "       [-0.],\n",
       "       [ 1.],\n",
       "       [ 1.],\n",
       "       [ 1.],\n",
       "       [ 1.],\n",
       "       [-0.],\n",
       "       [ 1.],\n",
       "       [-0.],\n",
       "       [ 1.],\n",
       "       [ 1.],\n",
       "       [ 1.],\n",
       "       [-1.],\n",
       "       [ 1.],\n",
       "       [ 0.],\n",
       "       [ 1.],\n",
       "       [ 0.],\n",
       "       [ 1.],\n",
       "       [ 1.],\n",
       "       [ 1.],\n",
       "       [ 1.],\n",
       "       [ 1.],\n",
       "       [ 1.],\n",
       "       [ 1.],\n",
       "       [ 1.],\n",
       "       [ 1.],\n",
       "       [ 1.],\n",
       "       [ 1.],\n",
       "       [ 1.],\n",
       "       [ 1.],\n",
       "       [-0.],\n",
       "       [ 1.],\n",
       "       [-0.],\n",
       "       [-0.],\n",
       "       [-0.],\n",
       "       [ 1.],\n",
       "       [ 1.],\n",
       "       [ 1.],\n",
       "       [ 1.],\n",
       "       [-0.],\n",
       "       [ 1.],\n",
       "       [ 1.],\n",
       "       [ 1.],\n",
       "       [ 1.],\n",
       "       [ 1.],\n",
       "       [ 2.],\n",
       "       [ 1.],\n",
       "       [ 1.],\n",
       "       [ 1.],\n",
       "       [ 1.],\n",
       "       [ 1.],\n",
       "       [ 0.],\n",
       "       [-0.],\n",
       "       [ 1.],\n",
       "       [ 1.],\n",
       "       [ 1.],\n",
       "       [ 1.],\n",
       "       [-0.],\n",
       "       [ 1.],\n",
       "       [ 1.],\n",
       "       [ 1.],\n",
       "       [ 1.],\n",
       "       [-0.],\n",
       "       [ 1.],\n",
       "       [ 1.],\n",
       "       [ 1.],\n",
       "       [ 1.],\n",
       "       [ 1.],\n",
       "       [ 1.],\n",
       "       [ 1.],\n",
       "       [ 1.],\n",
       "       [-0.],\n",
       "       [ 1.],\n",
       "       [ 1.],\n",
       "       [ 1.],\n",
       "       [ 2.],\n",
       "       [ 1.],\n",
       "       [ 1.],\n",
       "       [ 1.],\n",
       "       [ 1.],\n",
       "       [ 1.],\n",
       "       [ 1.],\n",
       "       [ 1.],\n",
       "       [ 1.],\n",
       "       [ 0.],\n",
       "       [ 1.],\n",
       "       [ 1.],\n",
       "       [ 1.],\n",
       "       [ 1.],\n",
       "       [ 0.],\n",
       "       [ 1.],\n",
       "       [ 1.],\n",
       "       [ 1.],\n",
       "       [ 1.],\n",
       "       [ 1.],\n",
       "       [ 1.],\n",
       "       [-0.],\n",
       "       [ 1.],\n",
       "       [ 1.],\n",
       "       [ 1.],\n",
       "       [-0.],\n",
       "       [ 1.],\n",
       "       [ 1.],\n",
       "       [ 1.],\n",
       "       [ 1.],\n",
       "       [-0.],\n",
       "       [ 1.],\n",
       "       [ 1.],\n",
       "       [-0.],\n",
       "       [ 1.],\n",
       "       [ 1.],\n",
       "       [-1.],\n",
       "       [ 1.],\n",
       "       [ 1.],\n",
       "       [-0.],\n",
       "       [ 1.],\n",
       "       [ 1.],\n",
       "       [ 1.],\n",
       "       [ 1.],\n",
       "       [-0.],\n",
       "       [ 1.],\n",
       "       [-0.],\n",
       "       [ 1.],\n",
       "       [ 5.],\n",
       "       [ 0.],\n",
       "       [ 1.],\n",
       "       [ 1.],\n",
       "       [ 1.],\n",
       "       [ 1.],\n",
       "       [ 1.],\n",
       "       [ 1.],\n",
       "       [ 1.],\n",
       "       [ 0.],\n",
       "       [ 1.],\n",
       "       [-0.],\n",
       "       [-0.],\n",
       "       [ 1.],\n",
       "       [ 0.],\n",
       "       [ 1.],\n",
       "       [-0.],\n",
       "       [-0.]], dtype=float32)"
      ]
     },
     "execution_count": 50,
     "metadata": {},
     "output_type": "execute_result"
    }
   ],
   "source": [
    "y_pred"
   ]
  },
  {
   "cell_type": "code",
   "execution_count": 51,
   "metadata": {
    "colab": {
     "base_uri": "https://localhost:8080/"
    },
    "id": "lkEmxqwXocK4",
    "outputId": "52af9304-66f4-4eb5-ea2e-cc6a9453b507"
   },
   "outputs": [
    {
     "name": "stdout",
     "output_type": "stream",
     "text": [
      "              precision    recall  f1-score   support\n",
      "\n",
      "        -1.0       0.00      0.00      0.00         0\n",
      "         0.0       0.98      0.98      0.98        42\n",
      "         1.0       1.00      0.95      0.97       131\n",
      "         2.0       0.00      0.00      0.00         0\n",
      "         5.0       0.00      0.00      0.00         0\n",
      "\n",
      "    accuracy                           0.95       173\n",
      "   macro avg       0.40      0.38      0.39       173\n",
      "weighted avg       0.99      0.95      0.97       173\n",
      "\n"
     ]
    }
   ],
   "source": [
    "print(classification_report(y_test, y_pred))"
   ]
  },
  {
   "cell_type": "code",
   "execution_count": 52,
   "metadata": {
    "colab": {
     "base_uri": "https://localhost:8080/"
    },
    "id": "R1m85I0fS-CB",
    "outputId": "b990d4b3-df5d-4fe6-d2e4-0e5bfd176a62"
   },
   "outputs": [
    {
     "name": "stdout",
     "output_type": "stream",
     "text": [
      "Report\n",
      "Accuracy: 95.37572254335261\n"
     ]
    }
   ],
   "source": [
    "print(\"Report\")\n",
    "accuracy = (accuracy_score(y_test,y_pred)*100)\n",
    "print(\"Accuracy:\", accuracy)"
   ]
  },
  {
   "cell_type": "code",
   "execution_count": 53,
   "metadata": {},
   "outputs": [
    {
     "data": {
      "text/plain": [
       "0.9734330726510257"
      ]
     },
     "execution_count": 53,
     "metadata": {},
     "output_type": "execute_result"
    }
   ],
   "source": [
    "f1_score(y_test,y_pred,average='weighted')"
   ]
  },
  {
   "cell_type": "code",
   "execution_count": 54,
   "metadata": {},
   "outputs": [
    {
     "data": {
      "text/plain": [
       "0.953757225433526"
      ]
     },
     "execution_count": 54,
     "metadata": {},
     "output_type": "execute_result"
    }
   ],
   "source": [
    "recall_score(y_test,y_pred,average='weighted')"
   ]
  },
  {
   "cell_type": "code",
   "execution_count": 55,
   "metadata": {},
   "outputs": [
    {
     "data": {
      "text/plain": [
       "0.9942196531791907"
      ]
     },
     "execution_count": 55,
     "metadata": {},
     "output_type": "execute_result"
    }
   ],
   "source": [
    "precision_score(y_test,y_pred,average='weighted')"
   ]
  },
  {
   "cell_type": "code",
   "execution_count": 56,
   "metadata": {
    "colab": {
     "base_uri": "https://localhost:8080/"
    },
    "id": "YmHhwaslTFg0",
    "outputId": "616eaea0-411e-4c85-9828-058fdc7a32d8"
   },
   "outputs": [
    {
     "name": "stdout",
     "output_type": "stream",
     "text": [
      "Confusion matrix\n",
      "[[  0   0   0   0   0]\n",
      " [  1  41   0   0   0]\n",
      " [  2   1 124   3   1]\n",
      " [  0   0   0   0   0]\n",
      " [  0   0   0   0   0]]\n"
     ]
    }
   ],
   "source": [
    "print(\"Confusion matrix\")\n",
    "cm2=confusion_matrix(y_test,y_pred)\n",
    "print(cm2)"
   ]
  },
  {
   "cell_type": "code",
   "execution_count": 57,
   "metadata": {
    "colab": {
     "base_uri": "https://localhost:8080/"
    },
    "id": "_77ypLmnTgM-",
    "outputId": "c8f08831-7ab1-4add-c4be-64e8cea01fa6"
   },
   "outputs": [
    {
     "name": "stdout",
     "output_type": "stream",
     "text": [
      "Sensitivity :  0.9763779527559056\n"
     ]
    }
   ],
   "source": [
    "sensitivity2 = cm2[2,2]/(cm2[2,2]+(cm2[2,3]))\n",
    "print('Sensitivity : ', sensitivity2 )"
   ]
  },
  {
   "cell_type": "code",
   "execution_count": 58,
   "metadata": {
    "colab": {
     "base_uri": "https://localhost:8080/"
    },
    "id": "8Wm6PJ3fTjrW",
    "outputId": "d99edbb9-fca9-45be-9220-ec239e5ee0df"
   },
   "outputs": [
    {
     "name": "stdout",
     "output_type": "stream",
     "text": [
      "Specificity :  0.9534883720930233\n"
     ]
    }
   ],
   "source": [
    "specificity2 = cm2[1,1]/(cm2[2,0]+cm2[1,1])\n",
    "print('Specificity : ',specificity2)"
   ]
  },
  {
   "cell_type": "code",
   "execution_count": 59,
   "metadata": {},
   "outputs": [
    {
     "name": "stdout",
     "output_type": "stream",
     "text": [
      "True Positive : 124\n",
      "True Negative : 41\n",
      "False Positive : 2\n",
      "False Negative : 3\n",
      "\n",
      "True Positive Rate : 0.9763779527559056\n",
      "True Negative Rate : 0.9534883720930233\n",
      "False Positive Rate : 0.046511627906976744\n",
      "False Negative Rate : 0.023622047244094488\n",
      "\n",
      "Positive Predictive Value : 0.9841269841269841\n",
      "Negative predictive value : 0.9318181818181818\n",
      "Confusion matrix:\n",
      "[[  0   0   0   0   0]\n",
      " [  1  41   0   0   0]\n",
      " [  2   1 124   3   1]\n",
      " [  0   0   0   0   0]\n",
      " [  0   0   0   0   0]]\n"
     ]
    },
    {
     "data": {
      "image/png": "[encoded data removed]",
      "text/plain": [
       "<Figure size 640x480 with 2 Axes>"
      ]
     },
     "metadata": {},
     "output_type": "display_data"
    }
   ],
   "source": [
    "TN = cm2[1][1]\n",
    "FN = cm2[2][3]\n",
    "TP = cm2[2][2]\n",
    "FP = cm2[2][0]\n",
    "print(\"True Positive :\",TP)\n",
    "print(\"True Negative :\",TN)\n",
    "print(\"False Positive :\",FP)\n",
    "print(\"False Negative :\",FN)\n",
    "print(\"\")\n",
    "TPR = TP/(TP+FN)\n",
    "TNR = TN/(TN+FP)\n",
    "FPR = FP/(FP+TN)\n",
    "FNR = FN/(TP+FN)\n",
    "print(\"True Positive Rate :\",TPR)\n",
    "print(\"True Negative Rate :\",TNR)\n",
    "print(\"False Positive Rate :\",FPR)\n",
    "print(\"False Negative Rate :\",FNR)\n",
    "print(\"\")\n",
    "PPV = TP/(TP+FP)\n",
    "NPV = TN/(TN+FN)\n",
    "print(\"Positive Predictive Value :\",PPV)\n",
    "print(\"Negative predictive value :\",NPV)\n",
    "\n",
    "\n",
    "cm2=confusion_matrix(y_test, y_pred)\n",
    "print('Confusion matrix:')\n",
    "print(cm2)\n",
    "\n",
    "\n",
    "\n",
    "sns.heatmap(cm2/np.sum(cm2), annot=True, cmap = 'Blues', annot_kws={\"size\": 16},fmt='.2%')\n",
    "plt.show()"
   ]
  },
  {
   "cell_type": "code",
   "execution_count": 60,
   "metadata": {
    "id": "Z-ihHxS6r5-X"
   },
   "outputs": [
    {
     "ename": "AttributeError",
     "evalue": "Can't pickle local object 'Layer._initializer_tracker.<locals>.<lambda>'",
     "output_type": "error",
     "traceback": [
      "\u001b[1;31m---------------------------------------------------------------------------\u001b[0m",
      "\u001b[1;31mAttributeError\u001b[0m                            Traceback (most recent call last)",
      "Cell \u001b[1;32mIn[60], line 2\u001b[0m\n\u001b[0;32m      1\u001b[0m \u001b[38;5;28;01mwith\u001b[39;00m \u001b[38;5;28mopen\u001b[39m(\u001b[38;5;124m\"\u001b[39m\u001b[38;5;124mLiver-SLP.pkl\u001b[39m\u001b[38;5;124m\"\u001b[39m,\u001b[38;5;124m\"\u001b[39m\u001b[38;5;124mwb\u001b[39m\u001b[38;5;124m\"\u001b[39m) \u001b[38;5;28;01mas\u001b[39;00m f:\n\u001b[1;32m----> 2\u001b[0m     \u001b[43mpickle\u001b[49m\u001b[38;5;241;43m.\u001b[39;49m\u001b[43mdump\u001b[49m\u001b[43m(\u001b[49m\u001b[43mmodel\u001b[49m\u001b[43m,\u001b[49m\u001b[43mf\u001b[49m\u001b[43m)\u001b[49m\n",
      "\u001b[1;31mAttributeError\u001b[0m: Can't pickle local object 'Layer._initializer_tracker.<locals>.<lambda>'"
     ]
    }
   ],
   "source": [
    "with open(\"Liver-SLP.pkl\",\"wb\") as f:\n",
    "    pickle.dump(model,f)"
   ]
  },
  {
   "cell_type": "code",
   "execution_count": null,
   "metadata": {},
   "outputs": [],
   "source": []
  }
 ],
 "metadata": {
  "colab": {
   "provenance": [],
   "toc_visible": true
  },
  "kernelspec": {
   "display_name": "Python 3 (ipykernel)",
   "language": "python",
   "name": "python3"
  },
  "language_info": {
   "codemirror_mode": {
    "name": "ipython",
    "version": 3
   },
   "file_extension": ".py",
   "mimetype": "text/x-python",
   "name": "python",
   "nbconvert_exporter": "python",
   "pygments_lexer": "ipython3",
   "version": "3.11.7"
  },
  "vscode": {
   "interpreter": {
    "hash": "e2076ff54751707b9c94963792d719a797a7861086d57b7d458fe9594c9a081d"
   }
  }
 },
 "nbformat": 4,
 "nbformat_minor": 4
}
